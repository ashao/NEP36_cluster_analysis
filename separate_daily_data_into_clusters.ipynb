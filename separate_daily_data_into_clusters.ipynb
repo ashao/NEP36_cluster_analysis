{
 "cells": [
  {
   "cell_type": "code",
   "execution_count": 1,
   "id": "ce8d3499-4ff2-4fc8-a2d1-c9718e9fe1f7",
   "metadata": {},
   "outputs": [
    {
     "name": "stderr",
     "output_type": "stream",
     "text": [
      "/lus/scratch/shao/miniconda3/envs/analysis/lib/python3.9/site-packages/dask_jobqueue/core.py:20: FutureWarning: tmpfile is deprecated and will be removed in a future release. Please use dask.utils.tmpfile instead.\n",
      "  from distributed.utils import tmpfile\n"
     ]
    }
   ],
   "source": [
    "import xarray as xr\n",
    "from dask.distributed import LocalCluster, Client\n",
    "import dask"
   ]
  },
  {
   "cell_type": "code",
   "execution_count": 2,
   "id": "79bada82-4a2b-408a-a3a6-cacb3ef76ada",
   "metadata": {},
   "outputs": [],
   "source": [
    "# Modifiable parameters\n",
    "# Variables to plot timeseries\n",
    "plot_vars = [\n",
    "    'O2',\n",
    "    'OmegaA',\n",
    "    'T'    \n",
    "]"
   ]
  },
  {
   "cell_type": "code",
   "execution_count": 4,
   "id": "24b5c3bd-7fbc-463f-ab07-2c89ed1583ed",
   "metadata": {},
   "outputs": [
    {
     "name": "stderr",
     "output_type": "stream",
     "text": [
      "2022-10-19 14:52:49,178 - distributed.diskutils - INFO - Found stale lock file and directory '/lus/cls04005/shao/analysis/NEP36_cluster_analysis/dask-worker-space/worker-5xnorzj6', purging\n",
      "2022-10-19 14:52:49,180 - distributed.diskutils - INFO - Found stale lock file and directory '/lus/cls04005/shao/analysis/NEP36_cluster_analysis/dask-worker-space/worker-6rn92n06', purging\n",
      "2022-10-19 14:52:49,183 - distributed.diskutils - INFO - Found stale lock file and directory '/lus/cls04005/shao/analysis/NEP36_cluster_analysis/dask-worker-space/worker-pn8ll5yd', purging\n",
      "2022-10-19 14:52:49,185 - distributed.diskutils - INFO - Found stale lock file and directory '/lus/cls04005/shao/analysis/NEP36_cluster_analysis/dask-worker-space/worker-dksbg1yp', purging\n",
      "2022-10-19 14:52:49,187 - distributed.diskutils - INFO - Found stale lock file and directory '/lus/cls04005/shao/analysis/NEP36_cluster_analysis/dask-worker-space/worker-_xsrh0rv', purging\n",
      "2022-10-19 14:52:49,189 - distributed.diskutils - INFO - Found stale lock file and directory '/lus/cls04005/shao/analysis/NEP36_cluster_analysis/dask-worker-space/worker-slvyy3cx', purging\n",
      "2022-10-19 14:52:49,192 - distributed.diskutils - INFO - Found stale lock file and directory '/lus/cls04005/shao/analysis/NEP36_cluster_analysis/dask-worker-space/worker-lycnect6', purging\n",
      "2022-10-19 14:52:49,194 - distributed.diskutils - INFO - Found stale lock file and directory '/lus/cls04005/shao/analysis/NEP36_cluster_analysis/dask-worker-space/worker-s_j0kfi_', purging\n",
      "2022-10-19 14:52:49,196 - distributed.diskutils - INFO - Found stale lock file and directory '/lus/cls04005/shao/analysis/NEP36_cluster_analysis/dask-worker-space/worker-ooyxf3v5', purging\n",
      "2022-10-19 14:52:49,198 - distributed.diskutils - INFO - Found stale lock file and directory '/lus/cls04005/shao/analysis/NEP36_cluster_analysis/dask-worker-space/worker-l47vsyp8', purging\n",
      "2022-10-19 14:52:49,200 - distributed.diskutils - INFO - Found stale lock file and directory '/lus/cls04005/shao/analysis/NEP36_cluster_analysis/dask-worker-space/worker-6bw1bh_b', purging\n",
      "2022-10-19 14:52:49,202 - distributed.diskutils - INFO - Found stale lock file and directory '/lus/cls04005/shao/analysis/NEP36_cluster_analysis/dask-worker-space/worker-k79ddtp7', purging\n",
      "2022-10-19 14:52:49,205 - distributed.diskutils - INFO - Found stale lock file and directory '/lus/cls04005/shao/analysis/NEP36_cluster_analysis/dask-worker-space/worker-0muv723_', purging\n",
      "2022-10-19 14:52:49,207 - distributed.diskutils - INFO - Found stale lock file and directory '/lus/cls04005/shao/analysis/NEP36_cluster_analysis/dask-worker-space/worker-id8qfymp', purging\n",
      "2022-10-19 14:52:49,209 - distributed.diskutils - INFO - Found stale lock file and directory '/lus/cls04005/shao/analysis/NEP36_cluster_analysis/dask-worker-space/worker-521ummut', purging\n",
      "2022-10-19 14:52:49,212 - distributed.diskutils - INFO - Found stale lock file and directory '/lus/cls04005/shao/analysis/NEP36_cluster_analysis/dask-worker-space/worker-wt4zzkmc', purging\n"
     ]
    }
   ],
   "source": [
    "client = Client(LocalCluster())"
   ]
  },
  {
   "cell_type": "code",
   "execution_count": 5,
   "id": "f17f580f-8fd9-464b-a821-b96958db0e82",
   "metadata": {},
   "outputs": [],
   "source": [
    "# Load climatology with clusters and the daily data into separate datasets\n",
    "datapath = '/lus/scratch/shao/data/NEP36_extremes/'\n",
    "ds_clim = xr.open_dataset(f'{datapath}/processed/clim/clim_with_clusters.nc').load()\n",
    "ds = xr.open_mfdataset(\n",
    "    f'{datapath}/processed/daily/*.nc',\n",
    "    parallel=True,\n",
    "    engine = 'h5netcdf'\n",
    ").load()\n"
   ]
  },
  {
   "cell_type": "code",
   "execution_count": 6,
   "id": "0d355bab-22f6-41a7-981e-2249892accec",
   "metadata": {},
   "outputs": [],
   "source": [
    "# Add the cluster ids to the main dataset so that we can groupby those ids\n",
    "ds['cluster'] = ds_clim['cluster']\n",
    "ds_clusters = ds.groupby('cluster')"
   ]
  },
  {
   "cell_type": "code",
   "execution_count": 11,
   "id": "0c336459-6584-40b3-b53d-45f98afaa509",
   "metadata": {},
   "outputs": [
    {
     "name": "stderr",
     "output_type": "stream",
     "text": [
      "2022-10-19 15:07:05,450 - distributed.nanny - ERROR - Worker process died unexpectedly\n",
      "2022-10-19 15:07:05,454 - distributed.nanny - ERROR - Worker process died unexpectedly\n",
      "2022-10-19 15:07:05,455 - distributed.nanny - ERROR - Worker process died unexpectedly\n",
      "2022-10-19 15:07:05,455 - distributed.nanny - ERROR - Worker process died unexpectedly\n",
      "2022-10-19 15:07:05,456 - distributed.nanny - ERROR - Worker process died unexpectedly\n",
      "2022-10-19 15:07:05,457 - distributed.nanny - ERROR - Worker process died unexpectedly\n",
      "2022-10-19 15:07:05,458 - distributed.nanny - ERROR - Worker process died unexpectedly\n",
      "2022-10-19 15:07:05,458 - distributed.nanny - ERROR - Worker process died unexpectedly\n",
      "2022-10-19 15:07:05,459 - distributed.nanny - ERROR - Worker process died unexpectedly\n",
      "2022-10-19 15:07:05,459 - distributed.nanny - ERROR - Worker process died unexpectedly\n",
      "2022-10-19 15:07:05,459 - distributed.nanny - ERROR - Worker process died unexpectedly\n",
      "2022-10-19 15:07:05,459 - distributed.nanny - ERROR - Worker process died unexpectedly\n",
      "2022-10-19 15:07:05,459 - distributed.nanny - ERROR - Worker process died unexpectedly\n",
      "2022-10-19 15:07:05,459 - distributed.nanny - ERROR - Worker process died unexpectedly\n",
      "2022-10-19 15:07:05,460 - distributed.nanny - ERROR - Worker process died unexpectedly\n",
      "2022-10-19 15:07:05,460 - distributed.nanny - ERROR - Worker process died unexpectedly\n",
      "2022-10-19 15:07:05,598 - distributed.nanny - WARNING - Restarting worker\n",
      "2022-10-19 15:07:05,692 - distributed.nanny - WARNING - Restarting worker\n",
      "2022-10-19 15:07:05,818 - distributed.nanny - WARNING - Restarting worker\n",
      "2022-10-19 15:07:06,052 - distributed.nanny - WARNING - Restarting worker\n",
      "2022-10-19 15:07:06,054 - distributed.nanny - WARNING - Restarting worker\n",
      "2022-10-19 15:07:06,140 - distributed.nanny - WARNING - Restarting worker\n",
      "2022-10-19 15:07:06,248 - distributed.nanny - WARNING - Restarting worker\n",
      "2022-10-19 15:07:06,352 - distributed.nanny - WARNING - Restarting worker\n",
      "2022-10-19 15:07:06,356 - distributed.nanny - WARNING - Restarting worker\n",
      "2022-10-19 15:07:06,460 - distributed.nanny - WARNING - Restarting worker\n",
      "2022-10-19 15:07:06,566 - distributed.nanny - WARNING - Restarting worker\n",
      "2022-10-19 15:07:06,675 - distributed.nanny - WARNING - Restarting worker\n",
      "2022-10-19 15:07:06,790 - distributed.nanny - WARNING - Restarting worker\n",
      "2022-10-19 15:07:07,093 - distributed.nanny - WARNING - Restarting worker\n",
      "2022-10-19 15:07:07,218 - distributed.nanny - WARNING - Restarting worker\n",
      "2022-10-19 15:07:07,347 - distributed.nanny - WARNING - Restarting worker\n",
      "2022-10-19 15:07:07,721 - distributed.nanny - WARNING - Restarting worker\n",
      "2022-10-19 15:07:07,723 - distributed.nanny - WARNING - Restarting worker\n",
      "2022-10-19 15:07:07,727 - distributed.nanny - WARNING - Restarting worker\n",
      "2022-10-19 15:07:07,829 - distributed.worker_memory - WARNING - Worker exceeded 95% memory budget. Restarting\n"
     ]
    }
   ],
   "source": [
    "# Plot timeseries for select variables and output netcdf files for each cluster\n",
    "for cluster_label, ds_cluster in ds_clusters:\n",
    "    ds_cluster.reset_index('stacked_y_x').to_netcdf(f'output_data/cluster_{int(cluster_label)}.nc',engine ='h5netcdf')\n",
    "    "
   ]
  },
  {
   "cell_type": "code",
   "execution_count": null,
   "id": "bcfb4b67-1679-4c75-9fd3-fa00ffc7e7ff",
   "metadata": {},
   "outputs": [],
   "source": []
  }
 ],
 "metadata": {
  "kernelspec": {
   "display_name": "Python 3 (ipykernel)",
   "language": "python",
   "name": "python3"
  },
  "language_info": {
   "codemirror_mode": {
    "name": "ipython",
    "version": 3
   },
   "file_extension": ".py",
   "mimetype": "text/x-python",
   "name": "python",
   "nbconvert_exporter": "python",
   "pygments_lexer": "ipython3",
   "version": "3.9.12"
  }
 },
 "nbformat": 4,
 "nbformat_minor": 5
}
