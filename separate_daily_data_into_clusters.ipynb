{
 "cells": [
  {
   "cell_type": "code",
   "execution_count": 11,
   "id": "ce8d3499-4ff2-4fc8-a2d1-c9718e9fe1f7",
   "metadata": {},
   "outputs": [],
   "source": [
    "import xarray as xr\n",
    "import dask"
   ]
  },
  {
   "cell_type": "code",
   "execution_count": 12,
   "id": "79bada82-4a2b-408a-a3a6-cacb3ef76ada",
   "metadata": {},
   "outputs": [],
   "source": [
    "# Modifiable parameters\n",
    "# Variables to plot timeseries\n",
    "plot_vars = [\n",
    "    'O2',\n",
    "    'OmegaA',\n",
    "    'T'    \n",
    "]"
   ]
  },
  {
   "cell_type": "code",
   "execution_count": 13,
   "id": "f17f580f-8fd9-464b-a821-b96958db0e82",
   "metadata": {},
   "outputs": [],
   "source": [
    "# Load climatology with clusters and the daily data into separate datasets\n",
    "datapath = '/lus/scratch/shao/data/NEP36_extremes/'\n",
    "ds_clim = xr.open_dataset(f'{datapath}/processed/clim/clim_with_clusters.nc').load()\n",
    "ds = xr.open_mfdataset(\n",
    "    f'{datapath}/processed/daily/by_year/*.nc',\n",
    "    parallel=True,\n",
    "    engine = 'h5netcdf'\n",
    ").load()\n"
   ]
  },
  {
   "cell_type": "code",
   "execution_count": 14,
   "id": "0d355bab-22f6-41a7-981e-2249892accec",
   "metadata": {},
   "outputs": [],
   "source": [
    "# Add the cluster ids to the main dataset so that we can groupby those ids\n",
    "ds['cluster'] = ds_clim['cluster']\n",
    "ds_clusters = ds.groupby('cluster')"
   ]
  },
  {
   "cell_type": "code",
   "execution_count": 15,
   "id": "0c336459-6584-40b3-b53d-45f98afaa509",
   "metadata": {},
   "outputs": [],
   "source": [
    "# Plot timeseries for select variables and output netcdf files for each cluster\n",
    "for cluster_label, ds_cluster in ds_clusters:\n",
    "    ds_cluster.reset_index('stacked_y_x').to_netcdf(f'output_data/cluster_{int(cluster_label)}.nc',engine ='h5netcdf')\n",
    "    "
   ]
  },
  {
   "cell_type": "code",
   "execution_count": null,
   "id": "bcfb4b67-1679-4c75-9fd3-fa00ffc7e7ff",
   "metadata": {},
   "outputs": [],
   "source": []
  },
  {
   "cell_type": "code",
   "execution_count": null,
   "id": "90ba773d-9df7-4013-bff1-3ef653480ca6",
   "metadata": {},
   "outputs": [],
   "source": []
  }
 ],
 "metadata": {
  "kernelspec": {
   "display_name": "Python 3 (ipykernel)",
   "language": "python",
   "name": "python3"
  },
  "language_info": {
   "codemirror_mode": {
    "name": "ipython",
    "version": 3
   },
   "file_extension": ".py",
   "mimetype": "text/x-python",
   "name": "python",
   "nbconvert_exporter": "python",
   "pygments_lexer": "ipython3",
   "version": "3.10.5"
  }
 },
 "nbformat": 4,
 "nbformat_minor": 5
}
