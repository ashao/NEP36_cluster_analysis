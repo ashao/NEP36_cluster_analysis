{
 "cells": [
  {
   "cell_type": "code",
   "execution_count": 1,
   "id": "7f5cef66-a812-4609-9251-4597ae082708",
   "metadata": {},
   "outputs": [],
   "source": [
    "import xarray as xr\n",
    "import numpy as np\n",
    "from time import time\n",
    "import glob\n",
    "#from tqdm.contrib.concurrent import process_map \n",
    "#import multiprocessing as mp\n",
    "import os\n",
    "import PyCO2SYS as pyco2\n",
    "from netCDF4 import Dataset\n"
   ]
  },
  {
   "cell_type": "code",
   "execution_count": 2,
   "id": "56f4a3b4-c3fb-4ef1-a3cc-d1db73e0d1f4",
   "metadata": {},
   "outputs": [],
   "source": [
    "def calc_omega_a( alkalinity, dic, temperature, salinity, pressure ):\n",
    "    results = pyco2.sys(\n",
    "        par1 = alkalinity,\n",
    "        par1_type = 1,\n",
    "        par2 = dic,\n",
    "        par2_type = 2,\n",
    "        temperature = temperature,\n",
    "        salinity = salinity,\n",
    "        pressure = pressure\n",
    "    )\n",
    "    return results['saturation_aragonite']\n"
   ]
  },
  {
   "cell_type": "code",
   "execution_count": 3,
   "id": "2bc1086e-7e89-4795-922e-5d11d0266eef",
   "metadata": {},
   "outputs": [],
   "source": [
    "path0='/home/amh001/space_fs7/DATA/NEP36-I/HINDCAST/inputs_714x1020/NEP36-channels_mask.nc'\n",
    "ncT= Dataset(path0,'r')\n",
    "mask_chan = ncT.variables['mask'][:,:,:]\n"
   ]
  },
  {
   "cell_type": "code",
   "execution_count": 4,
   "id": "7d30214d-439d-4f04-a3db-3ed2e05be1d7",
   "metadata": {},
   "outputs": [],
   "source": [
    "datapath = '/home/amh001/space_fs7/DATA/NEP36-CanOE/Benthic_2023/'\n",
    "\n",
    "\n",
    "x_slice = slice(215,713)\n",
    "y_slice = slice(180,750)"
   ]
  },
  {
   "cell_type": "code",
   "execution_count": 5,
   "id": "52b58d87-9124-4d57-877b-0746c6fc5539",
   "metadata": {},
   "outputs": [],
   "source": [
    "def getdata(YEAR,mD):\n",
    "    datapath = '/home/amh001/space_fs7/DATA/NEP36-CanOE/'\n",
    "    file = f\"{datapath}/Benthic_2023/NEP36-CanOE_1d_benthic_shelf_\"+str(YEAR)+\"*.nc\"\n",
    "    ds = xr.open_mfdataset(file, decode_times=False, parallel=True)\n",
    "    ds = ds.isel(x=x_slice, y=y_slice)\n",
    "    D=ds['depths'].values\n",
    "    O2=ds['O2'].values\n",
    "    T=ds['T'].values\n",
    "    DIC=ds['DIC'].values\n",
    "    ALK=ds['ALK'].values\n",
    "    S=ds['S'].values\n",
    "\n",
    "    mask=(0<=D[0,:,:])&(D[0,:,:]<mD)\n",
    "    mask=(mask_chan[0,y_slice,x_slice]>0)&mask\n",
    "    print('calculating omega ...')\n",
    "    omega_A=calc_omega_a( ALK[:,mask], DIC[:,mask],T[:,mask],S[:,mask],D[:,mask] )\n",
    "    print('done')\n",
    "    O2=O2[:,mask]\n",
    "    T=T[:,mask]\n",
    "    time=ds['time'].values\n",
    "    nav_lon=ds['nav_lon'].values[mask]\n",
    "    nav_lat=ds['nav_lat'].values[mask]\n",
    "    D=D[:,mask]\n",
    "    ds2 = xr.Dataset(\n",
    "    data_vars=dict(\n",
    "        T=([\"time\",  \"x\"], T),\n",
    "        O2=([\"time\",  \"x\"], O2),\n",
    "        Omega_A=([\"time\",  \"x\"], omega_A),\n",
    "        depths=([\"time\", \"x\"], D),\n",
    "    ),\n",
    "    coords=dict(\n",
    "        nav_lon=([ \"x\"], nav_lon),\n",
    "        nav_lat=([ \"x\"], nav_lat),\n",
    "        time=time,\n",
    "    ),\n",
    "    attrs=dict(description=\"cluster of depths less than \"+str(mD)),\n",
    " )\n",
    "    ds2.time.attrs['units'] = \"seconds since 1900-01-01 00:00:00\"\n",
    "    ds2.T.attrs['units'] = \"C\"\n",
    "    ds2.O2.attrs['units'] = \"mmol/m3\"\n",
    "    ds2.Omega_A.attrs['units'] = \"\"\n",
    "\n",
    "    ds2.depths.attrs['units'] = \"m\"\n",
    "    ds2.nav_lat.attrs['units'] = \"degrees_north\"\n",
    "    ds2.nav_lon.attrs['units'] = \"degrees_east\"\n",
    "    \n",
    "    \n",
    "    return ds2"
   ]
  },
  {
   "cell_type": "code",
   "execution_count": 6,
   "id": "624517ba-f31f-47f7-82ed-0da6c2312656",
   "metadata": {},
   "outputs": [
    {
     "name": "stdout",
     "output_type": "stream",
     "text": [
      "calculating omega ...\n",
      "done\n",
      "saving  /home/amh001/space_fs7/DATA/NEP36-CanOE/cluster_depth/NEP36_cluster_less69m_y1996.nc\n"
     ]
    }
   ],
   "source": [
    "mD=69\n",
    "for YEAR in np.arange(1996,1997):\n",
    "#YEAR=1996  \n",
    "    ds2=getdata(YEAR,mD)\n",
    "\n",
    "    outfile=\"/home/amh001/space_fs7/DATA/NEP36-CanOE/cluster_depth/NEP36_cluster_less\"+str(mD)+\"m_y\"+str(YEAR)+\".nc\"\n",
    "\n",
    "    print('saving ', outfile)\n",
    "    \n",
    "    \n",
    "    #        ds = xr.open_dataset(filename0)\n",
    "    #       z_index=xr.DataArray(nansum(tmask, axis=0)-1) # Replace this with your mkbt variable\n",
    "    comp = dict(zlib=True, complevel=1)\n",
    "    encoding = {var: comp for var in ds2.data_vars}\n",
    "    ds2.to_netcdf(outfile,unlimited_dims='time', encoding=encoding)\n"
   ]
  },
  {
   "cell_type": "code",
   "execution_count": null,
   "id": "f61716dd-2aed-48c0-a922-47ca6b278df3",
   "metadata": {},
   "outputs": [],
   "source": []
  }
 ],
 "metadata": {
  "kernelspec": {
   "display_name": "Python 3",
   "language": "python",
   "name": "python3"
  },
  "language_info": {
   "codemirror_mode": {
    "name": "ipython",
    "version": 3
   },
   "file_extension": ".py",
   "mimetype": "text/x-python",
   "name": "python",
   "nbconvert_exporter": "python",
   "pygments_lexer": "ipython3",
   "version": "3.9.4"
  }
 },
 "nbformat": 4,
 "nbformat_minor": 5
}
