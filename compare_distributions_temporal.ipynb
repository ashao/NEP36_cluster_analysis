{
 "cells": [
  {
   "cell_type": "code",
   "execution_count": 35,
   "id": "0509cf81-743a-4676-be12-729ecd06554b",
   "metadata": {},
   "outputs": [],
   "source": [
    "import xarray as xr\n",
    "import random\n",
    "import glob\n",
    "import numpy as np\n",
    "import matplotlib.pyplot as plt\n",
    "import cf_xarray\n",
    "from scipy import integrate\n",
    "import pandas as pd"
   ]
  },
  {
   "cell_type": "code",
   "execution_count": 10,
   "id": "e67bf727-cb30-4d5d-a02b-df9819749439",
   "metadata": {},
   "outputs": [
    {
     "name": "stderr",
     "output_type": "stream",
     "text": [
      "/lus/scratch/shao/local/pyenv/versions/3.10.13/envs/nep36/lib/python3.10/site-packages/xarray/core/duck_array_ops.py:213: RuntimeWarning: invalid value encountered in cast\n",
      "  return data.astype(dtype, **kwargs)\n"
     ]
    }
   ],
   "source": [
    "reprocess = False\n",
    "if reprocess:\n",
    "    ds = xr.open_dataset(\n",
    "        \"/lus/scratch/shao/data/NEP36_extremes/3h_old/T.3h.subset.nc\",\n",
    "        chunks=\"auto\"\n",
    "    )\n",
    "    cluster_ds = xr.open_dataset(\n",
    "        \"/lus/scratch/shao/data/NEP36_extremes/processed/clim/clim_with_clusters_6.nc\"\n",
    "    )\n",
    "    ds[\"cluster\"] = cluster_ds.cluster.astype(int)\n",
    "    ds_clusters = ds.groupby(\"cluster\")\n",
    "    shallows = ds_clusters[3]\n",
    "    canyons = ds_clusters[4]\n",
    "    def save_cluster(ds_cluster, cluster_path, cluster_label):\n",
    "        encoded = cf_xarray.encode_multi_index_as_compress(ds_cluster, \"stacked_y_x\")\n",
    "        encoded.to_netcdf(f\"{cluster_path}/{cluster_label}_3h.nc\", engine=\"h5netcdf\")\n",
    "    \n",
    "    save_cluster(shallows, \"./output_data\", \"shallows\")\n",
    "    save_cluster(canyons, \"./output_data\", \"canyons\")"
   ]
  },
  {
   "cell_type": "code",
   "execution_count": 19,
   "id": "ed0b93fb-91ea-4084-84d2-14c9b31c7005",
   "metadata": {},
   "outputs": [],
   "source": [
    "ds = dict(\n",
    "    canyons=xr.open_dataset('output_data/canyons_3h.nc').load(),\n",
    "    shallows=xr.open_dataset('output_data/shallows_3h.nc').load()\n",
    ")"
   ]
  },
  {
   "cell_type": "code",
   "execution_count": 20,
   "id": "f1840af9-9b27-4c83-aa71-113a1b97aff2",
   "metadata": {},
   "outputs": [],
   "source": [
    "resample_frequencies = [\n",
    "    '3h',\n",
    "    '6h',\n",
    "    '12h',\n",
    "    '1D',\n",
    "    '5D',\n",
    "]\n",
    "\n",
    "ds_resample = {}\n",
    "hist_resample = {}\n",
    "for cluster in (\"shallows\", \"canyons\"):\n",
    "    ds_cluster = ds[cluster]\n",
    "    ds_resample[cluster] = {} \n",
    "    \n",
    "    for resample_frequency in resample_frequencies:\n",
    "        if resample_frequency = '3h':\n",
    "            ds_resample[cluster]['3h'] = ds_cluster\n",
    "        else:\n",
    "            ds_resample[cluster][resample_frequency] = ds_cluster.resample(time=resample_frequency).mean(dim='time')"
   ]
  },
  {
   "cell_type": "code",
   "execution_count": null,
   "id": "ef4c8a45-7dcf-42d8-baab-d080f9763d2b",
   "metadata": {
    "scrolled": true
   },
   "outputs": [
    {
     "name": "stdout",
     "output_type": "stream",
     "text": [
      "Processing T at 6h\n"
     ]
    },
    {
     "name": "stderr",
     "output_type": "stream",
     "text": [
      "\n",
      "libgomp: Thread creation failed: Resource temporarily unavailable\n"
     ]
    }
   ],
   "source": [
    "base_frequency = '3h'\n",
    "nbins = 50\n",
    "\n",
    "plot_variables = [\n",
    "\n",
    "    'T'\n",
    "]\n",
    "\n",
    "def flatten_and_drop_nan( da ):\n",
    "    \"\"\"\n",
    "    Flatten an xarray DataArray, convert to a 1D numpy, and drop all NaNs\n",
    "    \"\"\"\n",
    "    array = da.to_numpy().flatten()\n",
    "    array = array[np.isfinite(array)]\n",
    "    array = array[ array != 0. ]\n",
    "    return array\n",
    "\n",
    "var_hist = {}\n",
    "var_bin_edges = {}\n",
    "\n",
    "for var in plot_variables:\n",
    "    var_hist[var] = {}\n",
    "    hist, bin_edges = np.histogram(\n",
    "        flatten_and_drop_nan(ds_resample[base_frequency][var]),\n",
    "        nbins,\n",
    "        density=True\n",
    "    )\n",
    "    var_hist[var]['3h'] = hist.copy()\n",
    "    var_bin_edges[var] = bin_edges\n",
    "    for resample_frequency in resample_frequencies:\n",
    "        print(f'Processing {var} at {resample_frequency}')\n",
    "        hist, _ = np.histogram(\n",
    "            flatten_and_drop_nan(ds_resample[resample_frequency][var]),\n",
    "            bin_edges,\n",
    "            density=True\n",
    "        )\n",
    "        var_hist[var][resample_frequency] = hist.copy()\n"
   ]
  },
  {
   "cell_type": "code",
   "execution_count": 26,
   "id": "24184e4a-a461-40db-8e6d-9e343d6a3f90",
   "metadata": {},
   "outputs": [],
   "source": [
    "downwelling_months = [10, 11, 12, 1, 2, 3]\n",
    "upwelling_months   = [4, 5, 6, 7, 8, 9]\n",
    "timeseries_vars = ['O2','OmegaA','T']\n",
    "\n",
    "base_percentile = 0.1\n",
    "percentiles = {\n",
    "    'O2':base_percentile,\n",
    "    'OmegaA':base_percentile,\n",
    "    'T':1-base_percentile\n",
    "}\n",
    "\n",
    "def filter_by_season_and_values(ds, month_range):       \n",
    "    ds_out = ds.where(ds['time.month'].isin(month_range),drop=True)\n",
    "    return ds_out\n",
    "    \n",
    "def calculate_threshold(ds, percentile, nbins=1000):\n",
    "    data = ds.to_numpy().flatten()\n",
    "    hist, edges = np.histogram(data, bins=nbins, density=True)\n",
    "    cdf = integrate.cumtrapz(hist,edges[1:])\n",
    "    return np.interp(percentile, cdf, edges[2:])    "
   ]
  },
  {
   "cell_type": "code",
   "execution_count": 41,
   "id": "c9d69c42-529a-4fa9-9d14-9c77d33105cf",
   "metadata": {},
   "outputs": [
    {
     "name": "stdout",
     "output_type": "stream",
     "text": [
      "Cluster: shallows, Frequency: 3h\n"
     ]
    },
    {
     "name": "stderr",
     "output_type": "stream",
     "text": [
      "/tmp/ipykernel_2084426/2448282172.py:19: DeprecationWarning: 'scipy.integrate.cumtrapz' is deprecated in favour of 'scipy.integrate.cumulative_trapezoid' and will be removed in SciPy 1.14.0\n",
      "  cdf = integrate.cumtrapz(hist,edges[1:])\n"
     ]
    },
    {
     "name": "stdout",
     "output_type": "stream",
     "text": [
      "Cluster: shallows, Frequency: 6h\n"
     ]
    },
    {
     "name": "stderr",
     "output_type": "stream",
     "text": [
      "/tmp/ipykernel_2084426/2448282172.py:19: DeprecationWarning: 'scipy.integrate.cumtrapz' is deprecated in favour of 'scipy.integrate.cumulative_trapezoid' and will be removed in SciPy 1.14.0\n",
      "  cdf = integrate.cumtrapz(hist,edges[1:])\n"
     ]
    },
    {
     "name": "stdout",
     "output_type": "stream",
     "text": [
      "Cluster: shallows, Frequency: 12h\n"
     ]
    },
    {
     "name": "stderr",
     "output_type": "stream",
     "text": [
      "/tmp/ipykernel_2084426/2448282172.py:19: DeprecationWarning: 'scipy.integrate.cumtrapz' is deprecated in favour of 'scipy.integrate.cumulative_trapezoid' and will be removed in SciPy 1.14.0\n",
      "  cdf = integrate.cumtrapz(hist,edges[1:])\n"
     ]
    },
    {
     "name": "stdout",
     "output_type": "stream",
     "text": [
      "Cluster: shallows, Frequency: 1D\n"
     ]
    },
    {
     "name": "stderr",
     "output_type": "stream",
     "text": [
      "/tmp/ipykernel_2084426/2448282172.py:19: DeprecationWarning: 'scipy.integrate.cumtrapz' is deprecated in favour of 'scipy.integrate.cumulative_trapezoid' and will be removed in SciPy 1.14.0\n",
      "  cdf = integrate.cumtrapz(hist,edges[1:])\n"
     ]
    },
    {
     "name": "stdout",
     "output_type": "stream",
     "text": [
      "Cluster: shallows, Frequency: 5D\n",
      "Cluster: canyons, Frequency: 3h\n"
     ]
    },
    {
     "name": "stderr",
     "output_type": "stream",
     "text": [
      "/tmp/ipykernel_2084426/2448282172.py:19: DeprecationWarning: 'scipy.integrate.cumtrapz' is deprecated in favour of 'scipy.integrate.cumulative_trapezoid' and will be removed in SciPy 1.14.0\n",
      "  cdf = integrate.cumtrapz(hist,edges[1:])\n",
      "/tmp/ipykernel_2084426/2448282172.py:19: DeprecationWarning: 'scipy.integrate.cumtrapz' is deprecated in favour of 'scipy.integrate.cumulative_trapezoid' and will be removed in SciPy 1.14.0\n",
      "  cdf = integrate.cumtrapz(hist,edges[1:])\n"
     ]
    },
    {
     "name": "stdout",
     "output_type": "stream",
     "text": [
      "Cluster: canyons, Frequency: 6h\n"
     ]
    },
    {
     "name": "stderr",
     "output_type": "stream",
     "text": [
      "/tmp/ipykernel_2084426/2448282172.py:19: DeprecationWarning: 'scipy.integrate.cumtrapz' is deprecated in favour of 'scipy.integrate.cumulative_trapezoid' and will be removed in SciPy 1.14.0\n",
      "  cdf = integrate.cumtrapz(hist,edges[1:])\n"
     ]
    },
    {
     "name": "stdout",
     "output_type": "stream",
     "text": [
      "Cluster: canyons, Frequency: 12h\n"
     ]
    },
    {
     "name": "stderr",
     "output_type": "stream",
     "text": [
      "/tmp/ipykernel_2084426/2448282172.py:19: DeprecationWarning: 'scipy.integrate.cumtrapz' is deprecated in favour of 'scipy.integrate.cumulative_trapezoid' and will be removed in SciPy 1.14.0\n",
      "  cdf = integrate.cumtrapz(hist,edges[1:])\n"
     ]
    },
    {
     "name": "stdout",
     "output_type": "stream",
     "text": [
      "Cluster: canyons, Frequency: 1D\n"
     ]
    },
    {
     "name": "stderr",
     "output_type": "stream",
     "text": [
      "/tmp/ipykernel_2084426/2448282172.py:19: DeprecationWarning: 'scipy.integrate.cumtrapz' is deprecated in favour of 'scipy.integrate.cumulative_trapezoid' and will be removed in SciPy 1.14.0\n",
      "  cdf = integrate.cumtrapz(hist,edges[1:])\n"
     ]
    },
    {
     "name": "stdout",
     "output_type": "stream",
     "text": [
      "Cluster: canyons, Frequency: 5D\n"
     ]
    },
    {
     "name": "stderr",
     "output_type": "stream",
     "text": [
      "/tmp/ipykernel_2084426/2448282172.py:19: DeprecationWarning: 'scipy.integrate.cumtrapz' is deprecated in favour of 'scipy.integrate.cumulative_trapezoid' and will be removed in SciPy 1.14.0\n",
      "  cdf = integrate.cumtrapz(hist,edges[1:])\n"
     ]
    }
   ],
   "source": [
    "heading = \"-\"*5\n",
    "# threshold_df = pd.DataFrame(columns = [\"Number of Clusters\", \"Variable\", \"Season\", \"Threshold\"])\n",
    "thresholds = []\n",
    "var = \"T\"\n",
    "percentile = 0.9\n",
    "for cluster in [\"shallows\", \"canyons\"]:\n",
    "    for frequency in resample_frequencies:\n",
    "        print(f\"Cluster: {cluster}, Frequency: {frequency}\")\n",
    "        downwelling_ds = filter_by_season_and_values(\n",
    "            ds_resample[cluster][frequency],\n",
    "            downwelling_months\n",
    "        )\n",
    "        upwelling_ds = filter_by_season_and_values(\n",
    "            ds_resample[cluster][frequency],\n",
    "            upwelling_months\n",
    "        )\n",
    "        \n",
    "        upwelling_threshold = calculate_threshold(upwelling_ds[var], percentile)\n",
    "        downwelling_threshold = calculate_threshold(downwelling_ds[var], percentile)\n",
    "\n",
    "        thresholds.append(\n",
    "            {\n",
    "                \"Frequency\": frequency,\n",
    "                \"Variable\": var,\n",
    "                \"Season\": \"upwelling\",\n",
    "                \"Threshold\": upwelling_threshold,\n",
    "                \"Cluster\": cluster,\n",
    "            }\n",
    "        )\n",
    "        thresholds.append(\n",
    "            {\n",
    "                \"Frequency\": frequency,\n",
    "                \"Variable\": var,\n",
    "                \"Season\": \"downwelling\",\n",
    "                \"Threshold\": downwelling_threshold,\n",
    "                \"Cluster\": cluster,\n",
    "            }\n",
    "        )\n"
   ]
  },
  {
   "cell_type": "code",
   "execution_count": 36,
   "id": "9bb5e660-2a2c-4e4e-bc9b-545911885f52",
   "metadata": {},
   "outputs": [],
   "source": [
    "\n",
    "\n",
    "threshold_df = pd.DataFrame(thresholds)"
   ]
  },
  {
   "cell_type": "code",
   "execution_count": 40,
   "id": "91a1e32e-412c-476e-b0b0-baaf27169787",
   "metadata": {},
   "outputs": [
    {
     "data": {
      "text/html": [
       "<div>\n",
       "<style scoped>\n",
       "    .dataframe tbody tr th:only-of-type {\n",
       "        vertical-align: middle;\n",
       "    }\n",
       "\n",
       "    .dataframe tbody tr th {\n",
       "        vertical-align: top;\n",
       "    }\n",
       "\n",
       "    .dataframe thead th {\n",
       "        text-align: right;\n",
       "    }\n",
       "</style>\n",
       "<table border=\"1\" class=\"dataframe\">\n",
       "  <thead>\n",
       "    <tr style=\"text-align: right;\">\n",
       "      <th></th>\n",
       "      <th>Frequency</th>\n",
       "      <th>Variable</th>\n",
       "      <th>Season</th>\n",
       "      <th>Threshold</th>\n",
       "      <th>Cluster</th>\n",
       "    </tr>\n",
       "  </thead>\n",
       "  <tbody>\n",
       "    <tr>\n",
       "      <th>0</th>\n",
       "      <td>3h</td>\n",
       "      <td>T</td>\n",
       "      <td>upwelling</td>\n",
       "      <td>14.089685</td>\n",
       "      <td>shallows</td>\n",
       "    </tr>\n",
       "    <tr>\n",
       "      <th>2</th>\n",
       "      <td>6h</td>\n",
       "      <td>T</td>\n",
       "      <td>upwelling</td>\n",
       "      <td>14.083961</td>\n",
       "      <td>shallows</td>\n",
       "    </tr>\n",
       "    <tr>\n",
       "      <th>4</th>\n",
       "      <td>12h</td>\n",
       "      <td>T</td>\n",
       "      <td>upwelling</td>\n",
       "      <td>14.077610</td>\n",
       "      <td>shallows</td>\n",
       "    </tr>\n",
       "    <tr>\n",
       "      <th>6</th>\n",
       "      <td>1D</td>\n",
       "      <td>T</td>\n",
       "      <td>upwelling</td>\n",
       "      <td>14.076084</td>\n",
       "      <td>shallows</td>\n",
       "    </tr>\n",
       "    <tr>\n",
       "      <th>8</th>\n",
       "      <td>5D</td>\n",
       "      <td>T</td>\n",
       "      <td>upwelling</td>\n",
       "      <td>14.073673</td>\n",
       "      <td>shallows</td>\n",
       "    </tr>\n",
       "    <tr>\n",
       "      <th>10</th>\n",
       "      <td>3h</td>\n",
       "      <td>T</td>\n",
       "      <td>upwelling</td>\n",
       "      <td>6.382883</td>\n",
       "      <td>canyons</td>\n",
       "    </tr>\n",
       "    <tr>\n",
       "      <th>12</th>\n",
       "      <td>6h</td>\n",
       "      <td>T</td>\n",
       "      <td>upwelling</td>\n",
       "      <td>6.382105</td>\n",
       "      <td>canyons</td>\n",
       "    </tr>\n",
       "    <tr>\n",
       "      <th>14</th>\n",
       "      <td>12h</td>\n",
       "      <td>T</td>\n",
       "      <td>upwelling</td>\n",
       "      <td>6.381128</td>\n",
       "      <td>canyons</td>\n",
       "    </tr>\n",
       "    <tr>\n",
       "      <th>16</th>\n",
       "      <td>1D</td>\n",
       "      <td>T</td>\n",
       "      <td>upwelling</td>\n",
       "      <td>6.380694</td>\n",
       "      <td>canyons</td>\n",
       "    </tr>\n",
       "    <tr>\n",
       "      <th>18</th>\n",
       "      <td>5D</td>\n",
       "      <td>T</td>\n",
       "      <td>upwelling</td>\n",
       "      <td>6.369806</td>\n",
       "      <td>canyons</td>\n",
       "    </tr>\n",
       "  </tbody>\n",
       "</table>\n",
       "</div>"
      ],
      "text/plain": [
       "   Frequency Variable     Season  Threshold   Cluster\n",
       "0         3h        T  upwelling  14.089685  shallows\n",
       "2         6h        T  upwelling  14.083961  shallows\n",
       "4        12h        T  upwelling  14.077610  shallows\n",
       "6         1D        T  upwelling  14.076084  shallows\n",
       "8         5D        T  upwelling  14.073673  shallows\n",
       "10        3h        T  upwelling   6.382883   canyons\n",
       "12        6h        T  upwelling   6.382105   canyons\n",
       "14       12h        T  upwelling   6.381128   canyons\n",
       "16        1D        T  upwelling   6.380694   canyons\n",
       "18        5D        T  upwelling   6.369806   canyons"
      ]
     },
     "metadata": {},
     "output_type": "display_data"
    },
    {
     "data": {
      "text/html": [
       "<div>\n",
       "<style scoped>\n",
       "    .dataframe tbody tr th:only-of-type {\n",
       "        vertical-align: middle;\n",
       "    }\n",
       "\n",
       "    .dataframe tbody tr th {\n",
       "        vertical-align: top;\n",
       "    }\n",
       "\n",
       "    .dataframe thead th {\n",
       "        text-align: right;\n",
       "    }\n",
       "</style>\n",
       "<table border=\"1\" class=\"dataframe\">\n",
       "  <thead>\n",
       "    <tr style=\"text-align: right;\">\n",
       "      <th></th>\n",
       "      <th>Frequency</th>\n",
       "      <th>Variable</th>\n",
       "      <th>Season</th>\n",
       "      <th>Threshold</th>\n",
       "      <th>Cluster</th>\n",
       "    </tr>\n",
       "  </thead>\n",
       "  <tbody>\n",
       "    <tr>\n",
       "      <th>1</th>\n",
       "      <td>3h</td>\n",
       "      <td>T</td>\n",
       "      <td>downwelling</td>\n",
       "      <td>10.681804</td>\n",
       "      <td>shallows</td>\n",
       "    </tr>\n",
       "    <tr>\n",
       "      <th>3</th>\n",
       "      <td>6h</td>\n",
       "      <td>T</td>\n",
       "      <td>downwelling</td>\n",
       "      <td>10.681329</td>\n",
       "      <td>shallows</td>\n",
       "    </tr>\n",
       "    <tr>\n",
       "      <th>5</th>\n",
       "      <td>12h</td>\n",
       "      <td>T</td>\n",
       "      <td>downwelling</td>\n",
       "      <td>10.680562</td>\n",
       "      <td>shallows</td>\n",
       "    </tr>\n",
       "    <tr>\n",
       "      <th>7</th>\n",
       "      <td>1D</td>\n",
       "      <td>T</td>\n",
       "      <td>downwelling</td>\n",
       "      <td>10.679845</td>\n",
       "      <td>shallows</td>\n",
       "    </tr>\n",
       "    <tr>\n",
       "      <th>9</th>\n",
       "      <td>5D</td>\n",
       "      <td>T</td>\n",
       "      <td>downwelling</td>\n",
       "      <td>10.580608</td>\n",
       "      <td>shallows</td>\n",
       "    </tr>\n",
       "    <tr>\n",
       "      <th>11</th>\n",
       "      <td>3h</td>\n",
       "      <td>T</td>\n",
       "      <td>downwelling</td>\n",
       "      <td>7.050831</td>\n",
       "      <td>canyons</td>\n",
       "    </tr>\n",
       "    <tr>\n",
       "      <th>13</th>\n",
       "      <td>6h</td>\n",
       "      <td>T</td>\n",
       "      <td>downwelling</td>\n",
       "      <td>7.050138</td>\n",
       "      <td>canyons</td>\n",
       "    </tr>\n",
       "    <tr>\n",
       "      <th>15</th>\n",
       "      <td>12h</td>\n",
       "      <td>T</td>\n",
       "      <td>downwelling</td>\n",
       "      <td>7.049290</td>\n",
       "      <td>canyons</td>\n",
       "    </tr>\n",
       "    <tr>\n",
       "      <th>17</th>\n",
       "      <td>1D</td>\n",
       "      <td>T</td>\n",
       "      <td>downwelling</td>\n",
       "      <td>7.048787</td>\n",
       "      <td>canyons</td>\n",
       "    </tr>\n",
       "    <tr>\n",
       "      <th>19</th>\n",
       "      <td>5D</td>\n",
       "      <td>T</td>\n",
       "      <td>downwelling</td>\n",
       "      <td>7.047242</td>\n",
       "      <td>canyons</td>\n",
       "    </tr>\n",
       "  </tbody>\n",
       "</table>\n",
       "</div>"
      ],
      "text/plain": [
       "   Frequency Variable       Season  Threshold   Cluster\n",
       "1         3h        T  downwelling  10.681804  shallows\n",
       "3         6h        T  downwelling  10.681329  shallows\n",
       "5        12h        T  downwelling  10.680562  shallows\n",
       "7         1D        T  downwelling  10.679845  shallows\n",
       "9         5D        T  downwelling  10.580608  shallows\n",
       "11        3h        T  downwelling   7.050831   canyons\n",
       "13        6h        T  downwelling   7.050138   canyons\n",
       "15       12h        T  downwelling   7.049290   canyons\n",
       "17        1D        T  downwelling   7.048787   canyons\n",
       "19        5D        T  downwelling   7.047242   canyons"
      ]
     },
     "metadata": {},
     "output_type": "display_data"
    }
   ],
   "source": [
    "display(threshold_df[(threshold_df[\"Season\"] == \"upwelling\")])\n",
    "display(threshold_df[(threshold_df[\"Season\"] == \"downwelling\")])"
   ]
  },
  {
   "cell_type": "code",
   "execution_count": null,
   "id": "65f0a908-eac1-4b04-8553-cf8b865ff80c",
   "metadata": {},
   "outputs": [],
   "source": []
  }
 ],
 "metadata": {
  "kernelspec": {
   "display_name": "Python 3 (ipykernel)",
   "language": "python",
   "name": "python3"
  },
  "language_info": {
   "codemirror_mode": {
    "name": "ipython",
    "version": 3
   },
   "file_extension": ".py",
   "mimetype": "text/x-python",
   "name": "python",
   "nbconvert_exporter": "python",
   "pygments_lexer": "ipython3",
   "version": "3.10.13"
  }
 },
 "nbformat": 4,
 "nbformat_minor": 5
}
