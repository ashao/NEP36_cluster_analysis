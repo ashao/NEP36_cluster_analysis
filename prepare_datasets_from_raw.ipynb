{
 "cells": [
  {
   "cell_type": "code",
   "execution_count": 1,
   "id": "76071812-ef93-4c4a-b640-767434cfe158",
   "metadata": {},
   "outputs": [],
   "source": [
    "import xarray as xr\n",
    "import PyCO2SYS as pyco2\n",
    "import numpy as np\n",
    "from time import time\n",
    "import gsw\n",
    "import glob\n",
    "\n",
    "\n",
    "from tqdm.contrib.concurrent import process_map \n",
    "import multiprocessing as mp\n",
    "import os"
   ]
  },
  {
   "cell_type": "code",
   "execution_count": 14,
   "id": "e7c09482-da4e-446f-9056-18ecef51cd3e",
   "metadata": {},
   "outputs": [],
   "source": [
    "datapath = '/lus/scratch/shao/data/NEP36_extremes/'\n",
    "processed_datapath = f'{datapath}/processed'\n",
    "prefix = 'NEP36-CanOE_1d_benthic_shelf_'\n",
    "\n",
    "# files = glob.glob(f'{datapath}/{prefix}201[5-9]*.nc')\n",
    "files = (glob.glob(f'{datapath}/{prefix}202[0-9]*.nc'))\n",
    "\n",
    "x_slice = slice(215,713)\n",
    "y_slice = slice(180,750)"
   ]
  },
  {
   "cell_type": "code",
   "execution_count": 15,
   "id": "4c8dc818-3cf8-4d78-a013-a71716818c07",
   "metadata": {},
   "outputs": [
    {
     "data": {
      "text/plain": [
       "['/lus/scratch/shao/data/NEP36_extremes/NEP36-CanOE_1d_benthic_shelf_20200217-20200217.nc',\n",
       " '/lus/scratch/shao/data/NEP36_extremes/NEP36-CanOE_1d_benthic_shelf_20200328-20200328.nc',\n",
       " '/lus/scratch/shao/data/NEP36_extremes/NEP36-CanOE_1d_benthic_shelf_20200123-20200123.nc',\n",
       " '/lus/scratch/shao/data/NEP36_extremes/NEP36-CanOE_1d_benthic_shelf_20200211-20200211.nc',\n",
       " '/lus/scratch/shao/data/NEP36_extremes/NEP36-CanOE_1d_benthic_shelf_20200208-20200208.nc',\n",
       " '/lus/scratch/shao/data/NEP36_extremes/NEP36-CanOE_1d_benthic_shelf_20200124-20200124.nc',\n",
       " '/lus/scratch/shao/data/NEP36_extremes/NEP36-CanOE_1d_benthic_shelf_20200303-20200303.nc',\n",
       " '/lus/scratch/shao/data/NEP36_extremes/NEP36-CanOE_1d_benthic_shelf_20200228-20200228.nc',\n",
       " '/lus/scratch/shao/data/NEP36_extremes/NEP36-CanOE_1d_benthic_shelf_20200321-20200321.nc',\n",
       " '/lus/scratch/shao/data/NEP36_extremes/NEP36-CanOE_1d_benthic_shelf_20200112-20200112.nc',\n",
       " '/lus/scratch/shao/data/NEP36_extremes/NEP36-CanOE_1d_benthic_shelf_20200221-20200221.nc',\n",
       " '/lus/scratch/shao/data/NEP36_extremes/NEP36-CanOE_1d_benthic_shelf_20200210-20200210.nc',\n",
       " '/lus/scratch/shao/data/NEP36_extremes/NEP36-CanOE_1d_benthic_shelf_20200108-20200108.nc',\n",
       " '/lus/scratch/shao/data/NEP36_extremes/NEP36-CanOE_1d_benthic_shelf_20200104-20200104.nc',\n",
       " '/lus/scratch/shao/data/NEP36_extremes/NEP36-CanOE_1d_benthic_shelf_20200204-20200204.nc',\n",
       " '/lus/scratch/shao/data/NEP36_extremes/NEP36-CanOE_1d_benthic_shelf_20200330-20200330.nc',\n",
       " '/lus/scratch/shao/data/NEP36_extremes/NEP36-CanOE_1d_benthic_shelf_20200201-20200201.nc',\n",
       " '/lus/scratch/shao/data/NEP36_extremes/NEP36-CanOE_1d_benthic_shelf_20200307-20200307.nc',\n",
       " '/lus/scratch/shao/data/NEP36_extremes/NEP36-CanOE_1d_benthic_shelf_20200116-20200116.nc',\n",
       " '/lus/scratch/shao/data/NEP36_extremes/NEP36-CanOE_1d_benthic_shelf_20200226-20200226.nc',\n",
       " '/lus/scratch/shao/data/NEP36_extremes/NEP36-CanOE_1d_benthic_shelf_20200229-20200229.nc',\n",
       " '/lus/scratch/shao/data/NEP36_extremes/NEP36-CanOE_1d_benthic_shelf_20200331-20200331.nc',\n",
       " '/lus/scratch/shao/data/NEP36_extremes/NEP36-CanOE_1d_benthic_shelf_20200202-20200202.nc',\n",
       " '/lus/scratch/shao/data/NEP36_extremes/NEP36-CanOE_1d_benthic_shelf_20200215-20200215.nc',\n",
       " '/lus/scratch/shao/data/NEP36_extremes/NEP36-CanOE_1d_benthic_shelf_20200324-20200324.nc',\n",
       " '/lus/scratch/shao/data/NEP36_extremes/NEP36-CanOE_1d_benthic_shelf_20200205-20200205.nc',\n",
       " '/lus/scratch/shao/data/NEP36_extremes/NEP36-CanOE_1d_benthic_shelf_20200214-20200214.nc',\n",
       " '/lus/scratch/shao/data/NEP36_extremes/NEP36-CanOE_1d_benthic_shelf_20200316-20200316.nc',\n",
       " '/lus/scratch/shao/data/NEP36_extremes/NEP36-CanOE_1d_benthic_shelf_20200315-20200315.nc',\n",
       " '/lus/scratch/shao/data/NEP36_extremes/NEP36-CanOE_1d_benthic_shelf_20200223-20200223.nc',\n",
       " '/lus/scratch/shao/data/NEP36_extremes/NEP36-CanOE_1d_benthic_shelf_20200318-20200318.nc',\n",
       " '/lus/scratch/shao/data/NEP36_extremes/NEP36-CanOE_1d_benthic_shelf_20200118-20200118.nc',\n",
       " '/lus/scratch/shao/data/NEP36_extremes/NEP36-CanOE_1d_benthic_shelf_20200119-20200119.nc',\n",
       " '/lus/scratch/shao/data/NEP36_extremes/NEP36-CanOE_1d_benthic_shelf_20200131-20200131.nc',\n",
       " '/lus/scratch/shao/data/NEP36_extremes/NEP36-CanOE_1d_benthic_shelf_20200222-20200222.nc',\n",
       " '/lus/scratch/shao/data/NEP36_extremes/NEP36-CanOE_1d_benthic_shelf_20200121-20200121.nc',\n",
       " '/lus/scratch/shao/data/NEP36_extremes/NEP36-CanOE_1d_benthic_shelf_20200213-20200213.nc',\n",
       " '/lus/scratch/shao/data/NEP36_extremes/NEP36-CanOE_1d_benthic_shelf_20200106-20200106.nc',\n",
       " '/lus/scratch/shao/data/NEP36_extremes/NEP36-CanOE_1d_benthic_shelf_20200115-20200115.nc',\n",
       " '/lus/scratch/shao/data/NEP36_extremes/NEP36-CanOE_1d_benthic_shelf_20200313-20200313.nc',\n",
       " '/lus/scratch/shao/data/NEP36_extremes/NEP36-CanOE_1d_benthic_shelf_20200329-20200329.nc',\n",
       " '/lus/scratch/shao/data/NEP36_extremes/NEP36-CanOE_1d_benthic_shelf_20200125-20200125.nc',\n",
       " '/lus/scratch/shao/data/NEP36_extremes/NEP36-CanOE_1d_benthic_shelf_20200103-20200103.nc',\n",
       " '/lus/scratch/shao/data/NEP36_extremes/NEP36-CanOE_1d_benthic_shelf_20200326-20200326.nc',\n",
       " '/lus/scratch/shao/data/NEP36_extremes/NEP36-CanOE_1d_benthic_shelf_20200314-20200314.nc',\n",
       " '/lus/scratch/shao/data/NEP36_extremes/NEP36-CanOE_1d_benthic_shelf_20200310-20200310.nc',\n",
       " '/lus/scratch/shao/data/NEP36_extremes/NEP36-CanOE_1d_benthic_shelf_20200206-20200206.nc',\n",
       " '/lus/scratch/shao/data/NEP36_extremes/NEP36-CanOE_1d_benthic_shelf_20200102-20200102.nc',\n",
       " '/lus/scratch/shao/data/NEP36_extremes/NEP36-CanOE_1d_benthic_shelf_20200105-20200105.nc',\n",
       " '/lus/scratch/shao/data/NEP36_extremes/NEP36-CanOE_1d_benthic_shelf_20200322-20200322.nc',\n",
       " '/lus/scratch/shao/data/NEP36_extremes/NEP36-CanOE_1d_benthic_shelf_20200309-20200309.nc',\n",
       " '/lus/scratch/shao/data/NEP36_extremes/NEP36-CanOE_1d_benthic_shelf_20200402-20200402.nc',\n",
       " '/lus/scratch/shao/data/NEP36_extremes/NEP36-CanOE_1d_benthic_shelf_20200209-20200209.nc',\n",
       " '/lus/scratch/shao/data/NEP36_extremes/NEP36-CanOE_1d_benthic_shelf_20200323-20200323.nc',\n",
       " '/lus/scratch/shao/data/NEP36_extremes/NEP36-CanOE_1d_benthic_shelf_20200320-20200320.nc',\n",
       " '/lus/scratch/shao/data/NEP36_extremes/NEP36-CanOE_1d_benthic_shelf_20200101-20200101.nc',\n",
       " '/lus/scratch/shao/data/NEP36_extremes/NEP36-CanOE_1d_benthic_shelf_20200126-20200126.nc',\n",
       " '/lus/scratch/shao/data/NEP36_extremes/NEP36-CanOE_1d_benthic_shelf_20200304-20200304.nc',\n",
       " '/lus/scratch/shao/data/NEP36_extremes/NEP36-CanOE_1d_benthic_shelf_20200225-20200225.nc',\n",
       " '/lus/scratch/shao/data/NEP36_extremes/NEP36-CanOE_1d_benthic_shelf_20200117-20200117.nc',\n",
       " '/lus/scratch/shao/data/NEP36_extremes/NEP36-CanOE_1d_benthic_shelf_20200122-20200122.nc',\n",
       " '/lus/scratch/shao/data/NEP36_extremes/NEP36-CanOE_1d_benthic_shelf_20200212-20200212.nc',\n",
       " '/lus/scratch/shao/data/NEP36_extremes/NEP36-CanOE_1d_benthic_shelf_20200317-20200317.nc',\n",
       " '/lus/scratch/shao/data/NEP36_extremes/NEP36-CanOE_1d_benthic_shelf_20200401-20200401.nc',\n",
       " '/lus/scratch/shao/data/NEP36_extremes/NEP36-CanOE_1d_benthic_shelf_20200311-20200311.nc',\n",
       " '/lus/scratch/shao/data/NEP36_extremes/NEP36-CanOE_1d_benthic_shelf_20200127-20200127.nc',\n",
       " '/lus/scratch/shao/data/NEP36_extremes/NEP36-CanOE_1d_benthic_shelf_20200219-20200219.nc',\n",
       " '/lus/scratch/shao/data/NEP36_extremes/NEP36-CanOE_1d_benthic_shelf_20200216-20200216.nc',\n",
       " '/lus/scratch/shao/data/NEP36_extremes/NEP36-CanOE_1d_benthic_shelf_20200109-20200109.nc',\n",
       " '/lus/scratch/shao/data/NEP36_extremes/NEP36-CanOE_1d_benthic_shelf_20200227-20200227.nc',\n",
       " '/lus/scratch/shao/data/NEP36_extremes/NEP36-CanOE_1d_benthic_shelf_20200207-20200207.nc',\n",
       " '/lus/scratch/shao/data/NEP36_extremes/NEP36-CanOE_1d_benthic_shelf_20200224-20200224.nc',\n",
       " '/lus/scratch/shao/data/NEP36_extremes/NEP36-CanOE_1d_benthic_shelf_20200114-20200114.nc',\n",
       " '/lus/scratch/shao/data/NEP36_extremes/NEP36-CanOE_1d_benthic_shelf_20200107-20200107.nc',\n",
       " '/lus/scratch/shao/data/NEP36_extremes/NEP36-CanOE_1d_benthic_shelf_20200220-20200220.nc',\n",
       " '/lus/scratch/shao/data/NEP36_extremes/NEP36-CanOE_1d_benthic_shelf_20200113-20200113.nc',\n",
       " '/lus/scratch/shao/data/NEP36_extremes/NEP36-CanOE_1d_benthic_shelf_20200129-20200129.nc',\n",
       " '/lus/scratch/shao/data/NEP36_extremes/NEP36-CanOE_1d_benthic_shelf_20200301-20200301.nc',\n",
       " '/lus/scratch/shao/data/NEP36_extremes/NEP36-CanOE_1d_benthic_shelf_20200306-20200306.nc',\n",
       " '/lus/scratch/shao/data/NEP36_extremes/NEP36-CanOE_1d_benthic_shelf_20200128-20200128.nc',\n",
       " '/lus/scratch/shao/data/NEP36_extremes/NEP36-CanOE_1d_benthic_shelf_20200120-20200120.nc',\n",
       " '/lus/scratch/shao/data/NEP36_extremes/NEP36-CanOE_1d_benthic_shelf_20200203-20200203.nc',\n",
       " '/lus/scratch/shao/data/NEP36_extremes/NEP36-CanOE_1d_benthic_shelf_20200312-20200312.nc',\n",
       " '/lus/scratch/shao/data/NEP36_extremes/NEP36-CanOE_1d_benthic_shelf_20200327-20200327.nc',\n",
       " '/lus/scratch/shao/data/NEP36_extremes/NEP36-CanOE_1d_benthic_shelf_20200110-20200110.nc',\n",
       " '/lus/scratch/shao/data/NEP36_extremes/NEP36-CanOE_1d_benthic_shelf_20200403-20200403.nc',\n",
       " '/lus/scratch/shao/data/NEP36_extremes/NEP36-CanOE_1d_benthic_shelf_20200218-20200218.nc',\n",
       " '/lus/scratch/shao/data/NEP36_extremes/NEP36-CanOE_1d_benthic_shelf_20200319-20200319.nc',\n",
       " '/lus/scratch/shao/data/NEP36_extremes/NEP36-CanOE_1d_benthic_shelf_20200302-20200302.nc',\n",
       " '/lus/scratch/shao/data/NEP36_extremes/NEP36-CanOE_1d_benthic_shelf_20200130-20200130.nc',\n",
       " '/lus/scratch/shao/data/NEP36_extremes/NEP36-CanOE_1d_benthic_shelf_20200308-20200308.nc',\n",
       " '/lus/scratch/shao/data/NEP36_extremes/NEP36-CanOE_1d_benthic_shelf_20200325-20200325.nc',\n",
       " '/lus/scratch/shao/data/NEP36_extremes/NEP36-CanOE_1d_benthic_shelf_20200305-20200305.nc',\n",
       " '/lus/scratch/shao/data/NEP36_extremes/NEP36-CanOE_1d_benthic_shelf_20200111-20200111.nc']"
      ]
     },
     "execution_count": 15,
     "metadata": {},
     "output_type": "execute_result"
    }
   ],
   "source": [
    "files"
   ]
  },
  {
   "cell_type": "code",
   "execution_count": 16,
   "id": "5c9b02ff-42a7-4431-ba61-8f5cbe989274",
   "metadata": {},
   "outputs": [
    {
     "name": "stdout",
     "output_type": "stream",
     "text": [
      "Some input pH values are impossibly high given the input alkalinity;\n",
      "returning np.nan rather than negative DIC values.\n",
      "Some input pH values are impossibly high given the input alkalinity;\n",
      "returning np.nan rather than negative DIC values.\n"
     ]
    },
    {
     "name": "stderr",
     "output_type": "stream",
     "text": [
      "/lus/bnchlu1/shao/local/pyenv/versions/analysis/lib/python3.10/site-packages/autograd/tracer.py:48: RuntimeWarning: divide by zero encountered in log\n",
      "  return f_raw(*args, **kwargs)\n",
      "/lus/bnchlu1/shao/local/pyenv/versions/analysis/lib/python3.10/site-packages/autograd/numpy/numpy_vjps.py:78: RuntimeWarning: divide by zero encountered in divide\n",
      "  defvjp(anp.log,    lambda ans, x : lambda g: g / x)\n"
     ]
    },
    {
     "name": "stdout",
     "output_type": "stream",
     "text": [
      "Some input pH values are impossibly high given the input alkalinity;\n",
      "returning np.nan rather than negative DIC values.\n"
     ]
    }
   ],
   "source": [
    "def calc_omega_a( alkalinity, dic ):\n",
    "    results = pyco2.sys(\n",
    "        par1 = alkalinity,\n",
    "        par1_type = 1,\n",
    "        par2 = dic,\n",
    "        par2_type =2\n",
    "    )\n",
    "    return results['saturation_aragonite']\n",
    "\n",
    "def calc_aou(ds):\n",
    "    solubility = xr.apply_ufunc(\n",
    "        gsw.O2sol_SP_pt,\n",
    "        ds.S,\n",
    "        ds.T,\n",
    "        dask='parallelized'\n",
    "    ) \n",
    "    return solubility - ds['O2']\n",
    "    \n",
    "def process_ds(file):\n",
    "    ds = xr.open_dataset(file)\n",
    "    x_slice = slice(215,713)\n",
    "    y_slice = slice(180,750)\n",
    "    ds = ds.isel(\n",
    "            x = x_slice,\n",
    "            y = y_slice\n",
    "        )\n",
    "\n",
    "        # Perform other calculations\n",
    "    ds['OmegaA'] = xr.apply_ufunc(\n",
    "        calc_omega_a,\n",
    "        ds.ALK,\n",
    "        ds.DIC,\n",
    "        dask='parallelized'\n",
    "    )\n",
    "    ds['AOU'] = calc_aou(ds)\n",
    "    ds.to_netcdf(f'{processed_datapath}/daily/{os.path.basename(file)}')\n",
    "\n",
    "process_ds(files[0])"
   ]
  },
  {
   "cell_type": "code",
   "execution_count": 17,
   "id": "c55a3ecb-6c93-4c12-bb2d-3d8d3c0adbc5",
   "metadata": {
    "scrolled": true
   },
   "outputs": [
    {
     "data": {
      "application/vnd.jupyter.widget-view+json": {
       "model_id": "8ba238fed02d44729c354592bdeeba32",
       "version_major": 2,
       "version_minor": 0
      },
      "text/plain": [
       "  0%|          | 0/94 [00:00<?, ?it/s]"
      ]
     },
     "metadata": {},
     "output_type": "display_data"
    },
    {
     "name": "stdout",
     "output_type": "stream",
     "text": [
      "Some input pH values are impossibly high given the input alkalinity;Some input pH values are impossibly high given the input alkalinity;Some input pH values are impossibly high given the input alkalinity;\n",
      "\n",
      "\n",
      "\n",
      "Some input pH values are impossibly high given the input alkalinity;returning np.nan rather than negative DIC values.returning np.nan rather than negative DIC values.returning np.nan rather than negative DIC values.\n",
      "\n",
      "\n",
      "returning np.nan rather than negative DIC values.\n",
      "Some input pH values are impossibly high given the input alkalinity;Some input pH values are impossibly high given the input alkalinity;\n",
      "\n",
      "returning np.nan rather than negative DIC values.returning np.nan rather than negative DIC values.Some input pH values are impossibly high given the input alkalinity;\n",
      "\n",
      "\n",
      "returning np.nan rather than negative DIC values.\n",
      "Some input pH values are impossibly high given the input alkalinity;\n",
      "returning np.nan rather than negative DIC values.\n",
      "Some input pH values are impossibly high given the input alkalinity;\n",
      "returning np.nan rather than negative DIC values.\n",
      "Some input pH values are impossibly high given the input alkalinity;\n",
      "returning np.nan rather than negative DIC values.\n",
      "Some input pH values are impossibly high given the input alkalinity;\n",
      "Some input pH values are impossibly high given the input alkalinity;returning np.nan rather than negative DIC values.Some input pH values are impossibly high given the input alkalinity;\n",
      "\n",
      "\n",
      "returning np.nan rather than negative DIC values.returning np.nan rather than negative DIC values.\n",
      "\n"
     ]
    },
    {
     "name": "stderr",
     "output_type": "stream",
     "text": [
      "/lus/bnchlu1/shao/local/pyenv/versions/analysis/lib/python3.10/site-packages/autograd/tracer.py:48: RuntimeWarning: divide by zero encountered in log\n",
      "  return f_raw(*args, **kwargs)\n",
      "/lus/bnchlu1/shao/local/pyenv/versions/analysis/lib/python3.10/site-packages/autograd/numpy/numpy_vjps.py:78: RuntimeWarning: divide by zero encountered in divide\n",
      "  defvjp(anp.log,    lambda ans, x : lambda g: g / x)\n"
     ]
    },
    {
     "name": "stdout",
     "output_type": "stream",
     "text": [
      "Some input pH values are impossibly high given the input alkalinity;\n",
      "Some input pH values are impossibly high given the input alkalinity;returning np.nan rather than negative DIC values.\n",
      "returning np.nan rather than negative DIC values.\n",
      "Some input pH values are impossibly high given the input alkalinity;\n",
      "\n",
      "Some input pH values are impossibly high given the input alkalinity;Some input pH values are impossibly high given the input alkalinity;returning np.nan rather than negative DIC values.\n",
      "\n",
      "\n",
      "returning np.nan rather than negative DIC values."
     ]
    },
    {
     "name": "stderr",
     "output_type": "stream",
     "text": [
      "/lus/bnchlu1/shao/local/pyenv/versions/analysis/lib/python3.10/site-packages/autograd/tracer.py:48: RuntimeWarning: divide by zero encountered in log\n",
      "  return f_raw(*args, **kwargs)\n"
     ]
    },
    {
     "name": "stdout",
     "output_type": "stream",
     "text": [
      "returning np.nan rather than negative DIC values.\n",
      "Some input pH values are impossibly high given the input alkalinity;"
     ]
    },
    {
     "name": "stderr",
     "output_type": "stream",
     "text": [
      "/lus/bnchlu1/shao/local/pyenv/versions/analysis/lib/python3.10/site-packages/autograd/numpy/numpy_vjps.py:78: RuntimeWarning: divide by zero encountered in divide\n",
      "  defvjp(anp.log,    lambda ans, x : lambda g: g / x)\n"
     ]
    },
    {
     "name": "stdout",
     "output_type": "stream",
     "text": [
      "\n",
      "\n"
     ]
    },
    {
     "name": "stderr",
     "output_type": "stream",
     "text": [
      "/lus/bnchlu1/shao/local/pyenv/versions/analysis/lib/python3.10/site-packages/autograd/tracer.py:48: RuntimeWarning: divide by zero encountered in log\n",
      "  return f_raw(*args, **kwargs)\n",
      "/lus/bnchlu1/shao/local/pyenv/versions/analysis/lib/python3.10/site-packages/autograd/tracer.py:48: RuntimeWarning: divide by zero encountered in log\n",
      "  return f_raw(*args, **kwargs)\n"
     ]
    },
    {
     "name": "stdout",
     "output_type": "stream",
     "text": [
      "returning np.nan rather than negative DIC values."
     ]
    },
    {
     "name": "stderr",
     "output_type": "stream",
     "text": [
      "/lus/bnchlu1/shao/local/pyenv/versions/analysis/lib/python3.10/site-packages/autograd/numpy/numpy_vjps.py:78: RuntimeWarning: divide by zero encountered in divide\n",
      "  defvjp(anp.log,    lambda ans, x : lambda g: g / x)\n"
     ]
    },
    {
     "name": "stdout",
     "output_type": "stream",
     "text": [
      "Some input pH values are impossibly high given the input alkalinity;"
     ]
    },
    {
     "name": "stderr",
     "output_type": "stream",
     "text": [
      "/lus/bnchlu1/shao/local/pyenv/versions/analysis/lib/python3.10/site-packages/autograd/numpy/numpy_vjps.py:78: RuntimeWarning: divide by zero encountered in divide\n",
      "  defvjp(anp.log,    lambda ans, x : lambda g: g / x)\n"
     ]
    },
    {
     "name": "stdout",
     "output_type": "stream",
     "text": [
      "\n",
      "\n",
      "returning np.nan rather than negative DIC values.\n",
      "Some input pH values are impossibly high given the input alkalinity;\n",
      "returning np.nan rather than negative DIC values.\n",
      "Some input pH values are impossibly high given the input alkalinity;\n",
      "returning np.nan rather than negative DIC values.\n",
      "Some input pH values are impossibly high given the input alkalinity;\n",
      "returning np.nan rather than negative DIC values.\n",
      "Some input pH values are impossibly high given the input alkalinity;\n",
      "returning np.nan rather than negative DIC values.\n",
      "Some input pH values are impossibly high given the input alkalinity;\n",
      "returning np.nan rather than negative DIC values."
     ]
    },
    {
     "name": "stderr",
     "output_type": "stream",
     "text": [
      "/lus/bnchlu1/shao/local/pyenv/versions/analysis/lib/python3.10/site-packages/autograd/tracer.py:48: RuntimeWarning: divide by zero encountered in log\n",
      "  return f_raw(*args, **kwargs)\n"
     ]
    },
    {
     "name": "stdout",
     "output_type": "stream",
     "text": [
      "\n"
     ]
    },
    {
     "name": "stderr",
     "output_type": "stream",
     "text": [
      "/lus/bnchlu1/shao/local/pyenv/versions/analysis/lib/python3.10/site-packages/autograd/numpy/numpy_vjps.py:78: RuntimeWarning: divide by zero encountered in divide\n",
      "  defvjp(anp.log,    lambda ans, x : lambda g: g / x)\n",
      "/lus/bnchlu1/shao/local/pyenv/versions/analysis/lib/python3.10/site-packages/autograd/tracer.py:48: RuntimeWarning: divide by zero encountered in log\n",
      "  return f_raw(*args, **kwargs)\n",
      "/lus/bnchlu1/shao/local/pyenv/versions/analysis/lib/python3.10/site-packages/autograd/numpy/numpy_vjps.py:78: RuntimeWarning: divide by zero encountered in divide\n",
      "  defvjp(anp.log,    lambda ans, x : lambda g: g / x)\n"
     ]
    },
    {
     "name": "stdout",
     "output_type": "stream",
     "text": [
      "Some input pH values are impossibly high given the input alkalinity;Some input pH values are impossibly high given the input alkalinity;\n",
      "\n",
      "returning np.nan rather than negative DIC values.returning np.nan rather than negative DIC values.\n",
      "\n"
     ]
    },
    {
     "name": "stderr",
     "output_type": "stream",
     "text": [
      "/lus/bnchlu1/shao/local/pyenv/versions/analysis/lib/python3.10/site-packages/autograd/tracer.py:48: RuntimeWarning: divide by zero encountered in log\n",
      "  return f_raw(*args, **kwargs)\n",
      "/lus/bnchlu1/shao/local/pyenv/versions/analysis/lib/python3.10/site-packages/autograd/numpy/numpy_vjps.py:78: RuntimeWarning: divide by zero encountered in divide\n",
      "  defvjp(anp.log,    lambda ans, x : lambda g: g / x)\n",
      "/lus/bnchlu1/shao/local/pyenv/versions/analysis/lib/python3.10/site-packages/autograd/tracer.py:48: RuntimeWarning: divide by zero encountered in log\n",
      "  return f_raw(*args, **kwargs)\n",
      "/lus/bnchlu1/shao/local/pyenv/versions/analysis/lib/python3.10/site-packages/autograd/numpy/numpy_vjps.py:78: RuntimeWarning: divide by zero encountered in divide\n",
      "  defvjp(anp.log,    lambda ans, x : lambda g: g / x)\n",
      "/lus/bnchlu1/shao/local/pyenv/versions/analysis/lib/python3.10/site-packages/autograd/tracer.py:48: RuntimeWarning: divide by zero encountered in log\n",
      "  return f_raw(*args, **kwargs)\n",
      "/lus/bnchlu1/shao/local/pyenv/versions/analysis/lib/python3.10/site-packages/autograd/numpy/numpy_vjps.py:78: RuntimeWarning: divide by zero encountered in divide\n",
      "  defvjp(anp.log,    lambda ans, x : lambda g: g / x)\n"
     ]
    },
    {
     "name": "stdout",
     "output_type": "stream",
     "text": [
      "Some input pH values are impossibly high given the input alkalinity;Some input pH values are impossibly high given the input alkalinity;\n",
      "\n",
      "returning np.nan rather than negative DIC values.returning np.nan rather than negative DIC values.\n",
      "\n",
      "Some input pH values are impossibly high given the input alkalinity;\n",
      "returning np.nan rather than negative DIC values.\n",
      "Some input pH values are impossibly high given the input alkalinity;\n",
      "returning np.nan rather than negative DIC values.\n",
      "Some input pH values are impossibly high given the input alkalinity;\n",
      "returning np.nan rather than negative DIC values.\n",
      "Some input pH values are impossibly high given the input alkalinity;\n",
      "returning np.nan rather than negative DIC values.\n",
      "Some input pH values are impossibly high given the input alkalinity;\n",
      "returning np.nan rather than negative DIC values.\n",
      "Some input pH values are impossibly high given the input alkalinity;\n",
      "returning np.nan rather than negative DIC values.\n"
     ]
    },
    {
     "name": "stderr",
     "output_type": "stream",
     "text": [
      "/lus/bnchlu1/shao/local/pyenv/versions/analysis/lib/python3.10/site-packages/autograd/tracer.py:48: RuntimeWarning: divide by zero encountered in log\n",
      "  return f_raw(*args, **kwargs)\n",
      "/lus/bnchlu1/shao/local/pyenv/versions/analysis/lib/python3.10/site-packages/autograd/numpy/numpy_vjps.py:78: RuntimeWarning: divide by zero encountered in divide\n",
      "  defvjp(anp.log,    lambda ans, x : lambda g: g / x)\n",
      "/lus/bnchlu1/shao/local/pyenv/versions/analysis/lib/python3.10/site-packages/autograd/tracer.py:48: RuntimeWarning: divide by zero encountered in log\n",
      "  return f_raw(*args, **kwargs)\n",
      "/lus/bnchlu1/shao/local/pyenv/versions/analysis/lib/python3.10/site-packages/autograd/numpy/numpy_vjps.py:78: RuntimeWarning: divide by zero encountered in divide\n",
      "  defvjp(anp.log,    lambda ans, x : lambda g: g / x)\n",
      "/lus/bnchlu1/shao/local/pyenv/versions/analysis/lib/python3.10/site-packages/autograd/tracer.py:48: RuntimeWarning: divide by zero encountered in log\n",
      "  return f_raw(*args, **kwargs)\n",
      "/lus/bnchlu1/shao/local/pyenv/versions/analysis/lib/python3.10/site-packages/autograd/numpy/numpy_vjps.py:78: RuntimeWarning: divide by zero encountered in divide\n",
      "  defvjp(anp.log,    lambda ans, x : lambda g: g / x)\n"
     ]
    },
    {
     "name": "stdout",
     "output_type": "stream",
     "text": [
      "Some input pH values are impossibly high given the input alkalinity;\n",
      "Some input pH values are impossibly high given the input alkalinity;returning np.nan rather than negative DIC values.\n",
      "\n",
      "returning np.nan rather than negative DIC values.\n",
      "Some input pH values are impossibly high given the input alkalinity;\n",
      "Some input pH values are impossibly high given the input alkalinity;returning np.nan rather than negative DIC values.\n",
      "\n",
      "returning np.nan rather than negative DIC values.\n",
      "Some input pH values are impossibly high given the input alkalinity;\n",
      "returning np.nan rather than negative DIC values.\n"
     ]
    },
    {
     "name": "stderr",
     "output_type": "stream",
     "text": [
      "/lus/bnchlu1/shao/local/pyenv/versions/analysis/lib/python3.10/site-packages/autograd/tracer.py:48: RuntimeWarning: divide by zero encountered in log\n",
      "  return f_raw(*args, **kwargs)\n",
      "/lus/bnchlu1/shao/local/pyenv/versions/analysis/lib/python3.10/site-packages/autograd/numpy/numpy_vjps.py:78: RuntimeWarning: divide by zero encountered in divide\n",
      "  defvjp(anp.log,    lambda ans, x : lambda g: g / x)\n",
      "/lus/bnchlu1/shao/local/pyenv/versions/analysis/lib/python3.10/site-packages/autograd/tracer.py:48: RuntimeWarning: divide by zero encountered in log\n",
      "  return f_raw(*args, **kwargs)\n",
      "/lus/bnchlu1/shao/local/pyenv/versions/analysis/lib/python3.10/site-packages/autograd/numpy/numpy_vjps.py:78: RuntimeWarning: divide by zero encountered in divide\n",
      "  defvjp(anp.log,    lambda ans, x : lambda g: g / x)\n"
     ]
    },
    {
     "name": "stdout",
     "output_type": "stream",
     "text": [
      "Some input pH values are impossibly high given the input alkalinity;\n",
      "returning np.nan rather than negative DIC values.\n",
      "Some input pH values are impossibly high given the input alkalinity;\n",
      "returning np.nan rather than negative DIC values.\n",
      "Some input pH values are impossibly high given the input alkalinity;\n",
      "returning np.nan rather than negative DIC values.\n",
      "Some input pH values are impossibly high given the input alkalinity;\n",
      "returning np.nan rather than negative DIC values.\n",
      "Some input pH values are impossibly high given the input alkalinity;\n",
      "returning np.nan rather than negative DIC values.\n",
      "Some input pH values are impossibly high given the input alkalinity;\n",
      "returning np.nan rather than negative DIC values.\n"
     ]
    },
    {
     "name": "stderr",
     "output_type": "stream",
     "text": [
      "/lus/bnchlu1/shao/local/pyenv/versions/analysis/lib/python3.10/site-packages/autograd/tracer.py:48: RuntimeWarning: divide by zero encountered in log\n",
      "  return f_raw(*args, **kwargs)\n",
      "/lus/bnchlu1/shao/local/pyenv/versions/analysis/lib/python3.10/site-packages/autograd/numpy/numpy_vjps.py:78: RuntimeWarning: divide by zero encountered in divide\n",
      "  defvjp(anp.log,    lambda ans, x : lambda g: g / x)\n",
      "/lus/bnchlu1/shao/local/pyenv/versions/analysis/lib/python3.10/site-packages/autograd/tracer.py:48: RuntimeWarning: divide by zero encountered in log\n",
      "  return f_raw(*args, **kwargs)\n",
      "/lus/bnchlu1/shao/local/pyenv/versions/analysis/lib/python3.10/site-packages/autograd/numpy/numpy_vjps.py:78: RuntimeWarning: divide by zero encountered in divide\n",
      "  defvjp(anp.log,    lambda ans, x : lambda g: g / x)\n"
     ]
    },
    {
     "name": "stdout",
     "output_type": "stream",
     "text": [
      "Some input pH values are impossibly high given the input alkalinity;returning np.nan rather than negative DIC values.\n",
      "\n",
      "Some input pH values are impossibly high given the input alkalinity;\n",
      "\n",
      "returning np.nan rather than negative DIC values.Some input pH values are impossibly high given the input alkalinity;\n",
      "returning np.nan rather than negative DIC values.Some input pH values are impossibly high given the input alkalinity;\n",
      "\n",
      "returning np.nan rather than negative DIC values.\n",
      "Some input pH values are impossibly high given the input alkalinity;\n",
      "returning np.nan rather than negative DIC values.\n",
      "Some input pH values are impossibly high given the input alkalinity;\n",
      "returning np.nan rather than negative DIC values.\n",
      "Some input pH values are impossibly high given the input alkalinity;\n",
      "returning np.nan rather than negative DIC values.\n",
      "Some input pH values are impossibly high given the input alkalinity;\n",
      "returning np.nan rather than negative DIC values.\n",
      "Some input pH values are impossibly high given the input alkalinity;\n",
      "returning np.nan rather than negative DIC values.\n",
      "Some input pH values are impossibly high given the input alkalinity;\n",
      "returning np.nan rather than negative DIC values.\n",
      "Some input pH values are impossibly high given the input alkalinity;\n",
      "returning np.nan rather than negative DIC values.\n",
      "Some input pH values are impossibly high given the input alkalinity;\n",
      "returning np.nan rather than negative DIC values.\n",
      "Some input pH values are impossibly high given the input alkalinity;\n",
      "returning np.nan rather than negative DIC values.Some input pH values are impossibly high given the input alkalinity;\n",
      "\n",
      "returning np.nan rather than negative DIC values.\n",
      "Some input pH values are impossibly high given the input alkalinity;\n",
      "returning np.nan rather than negative DIC values.\n"
     ]
    },
    {
     "name": "stderr",
     "output_type": "stream",
     "text": [
      "/lus/bnchlu1/shao/local/pyenv/versions/analysis/lib/python3.10/site-packages/autograd/tracer.py:48: RuntimeWarning: divide by zero encountered in log\n",
      "  return f_raw(*args, **kwargs)\n",
      "/lus/bnchlu1/shao/local/pyenv/versions/analysis/lib/python3.10/site-packages/autograd/numpy/numpy_vjps.py:78: RuntimeWarning: divide by zero encountered in divide\n",
      "  defvjp(anp.log,    lambda ans, x : lambda g: g / x)\n",
      "/lus/bnchlu1/shao/local/pyenv/versions/analysis/lib/python3.10/site-packages/autograd/tracer.py:48: RuntimeWarning: divide by zero encountered in log\n",
      "  return f_raw(*args, **kwargs)\n",
      "/lus/bnchlu1/shao/local/pyenv/versions/analysis/lib/python3.10/site-packages/autograd/numpy/numpy_vjps.py:78: RuntimeWarning: divide by zero encountered in divide\n",
      "  defvjp(anp.log,    lambda ans, x : lambda g: g / x)\n",
      "/lus/bnchlu1/shao/local/pyenv/versions/analysis/lib/python3.10/site-packages/autograd/tracer.py:48: RuntimeWarning: divide by zero encountered in log\n",
      "  return f_raw(*args, **kwargs)\n",
      "/lus/bnchlu1/shao/local/pyenv/versions/analysis/lib/python3.10/site-packages/autograd/numpy/numpy_vjps.py:78: RuntimeWarning: divide by zero encountered in divide\n",
      "  defvjp(anp.log,    lambda ans, x : lambda g: g / x)\n",
      "/lus/bnchlu1/shao/local/pyenv/versions/analysis/lib/python3.10/site-packages/autograd/tracer.py:48: RuntimeWarning: divide by zero encountered in log\n",
      "  return f_raw(*args, **kwargs)\n",
      "/lus/bnchlu1/shao/local/pyenv/versions/analysis/lib/python3.10/site-packages/autograd/numpy/numpy_vjps.py:78: RuntimeWarning: divide by zero encountered in divide\n",
      "  defvjp(anp.log,    lambda ans, x : lambda g: g / x)\n"
     ]
    },
    {
     "name": "stdout",
     "output_type": "stream",
     "text": [
      "Some input pH values are impossibly high given the input alkalinity;\n",
      "returning np.nan rather than negative DIC values.\n",
      "Some input pH values are impossibly high given the input alkalinity;\n",
      "returning np.nan rather than negative DIC values.\n",
      "Some input pH values are impossibly high given the input alkalinity;\n",
      "returning np.nan rather than negative DIC values.\n",
      "Some input pH values are impossibly high given the input alkalinity;returning np.nan rather than negative DIC values.\n",
      "\n",
      "Some input pH values are impossibly high given the input alkalinity;\n",
      "returning np.nan rather than negative DIC values.\n",
      "Some input pH values are impossibly high given the input alkalinity;\n",
      "returning np.nan rather than negative DIC values.\n",
      "Some input pH values are impossibly high given the input alkalinity;Some input pH values are impossibly high given the input alkalinity;\n",
      "\n",
      "returning np.nan rather than negative DIC values.returning np.nan rather than negative DIC values.\n",
      "\n",
      "Some input pH values are impossibly high given the input alkalinity;\n",
      "returning np.nan rather than negative DIC values.\n",
      "Some input pH values are impossibly high given the input alkalinity;\n",
      "returning np.nan rather than negative DIC values.Some input pH values are impossibly high given the input alkalinity;\n",
      "\n",
      "returning np.nan rather than negative DIC values.\n",
      "Some input pH values are impossibly high given the input alkalinity;\n",
      "returning np.nan rather than negative DIC values.\n",
      "Some input pH values are impossibly high given the input alkalinity;\n",
      "returning np.nan rather than negative DIC values.\n",
      "Some input pH values are impossibly high given the input alkalinity;\n",
      "returning np.nan rather than negative DIC values.\n",
      "Some input pH values are impossibly high given the input alkalinity;\n",
      "returning np.nan rather than negative DIC values.\n",
      "Some input pH values are impossibly high given the input alkalinity;\n",
      "returning np.nan rather than negative DIC values.\n",
      "Some input pH values are impossibly high given the input alkalinity;\n",
      "returning np.nan rather than negative DIC values.\n",
      "Some input pH values are impossibly high given the input alkalinity;\n",
      "returning np.nan rather than negative DIC values.\n"
     ]
    },
    {
     "name": "stderr",
     "output_type": "stream",
     "text": [
      "/lus/bnchlu1/shao/local/pyenv/versions/analysis/lib/python3.10/site-packages/autograd/tracer.py:48: RuntimeWarning: divide by zero encountered in log\n",
      "  return f_raw(*args, **kwargs)\n"
     ]
    },
    {
     "name": "stdout",
     "output_type": "stream",
     "text": [
      "Some input pH values are impossibly high given the input alkalinity;"
     ]
    },
    {
     "name": "stderr",
     "output_type": "stream",
     "text": [
      "/lus/bnchlu1/shao/local/pyenv/versions/analysis/lib/python3.10/site-packages/autograd/numpy/numpy_vjps.py:78: RuntimeWarning: divide by zero encountered in divide\n",
      "  defvjp(anp.log,    lambda ans, x : lambda g: g / x)\n"
     ]
    },
    {
     "name": "stdout",
     "output_type": "stream",
     "text": [
      "\n",
      "returning np.nan rather than negative DIC values.\n",
      "Some input pH values are impossibly high given the input alkalinity;\n",
      "returning np.nan rather than negative DIC values.\n",
      "Some input pH values are impossibly high given the input alkalinity;\n",
      "returning np.nan rather than negative DIC values.\n",
      "Some input pH values are impossibly high given the input alkalinity;\n",
      "Some input pH values are impossibly high given the input alkalinity;Some input pH values are impossibly high given the input alkalinity;returning np.nan rather than negative DIC values.\n",
      "\n",
      "\n",
      "returning np.nan rather than negative DIC values.\n",
      "returning np.nan rather than negative DIC values.\n",
      "Some input pH values are impossibly high given the input alkalinity;Some input pH values are impossibly high given the input alkalinity;\n",
      "Some input pH values are impossibly high given the input alkalinity;returning np.nan rather than negative DIC values.\n",
      "\n",
      "\n",
      "returning np.nan rather than negative DIC values.returning np.nan rather than negative DIC values.\n",
      "\n",
      "Some input pH values are impossibly high given the input alkalinity;\n",
      "returning np.nan rather than negative DIC values."
     ]
    },
    {
     "name": "stderr",
     "output_type": "stream",
     "text": [
      "/lus/bnchlu1/shao/local/pyenv/versions/analysis/lib/python3.10/site-packages/autograd/tracer.py:48: RuntimeWarning: divide by zero encountered in log\n",
      "  return f_raw(*args, **kwargs)\n"
     ]
    },
    {
     "name": "stdout",
     "output_type": "stream",
     "text": [
      "\n"
     ]
    },
    {
     "name": "stderr",
     "output_type": "stream",
     "text": [
      "/lus/bnchlu1/shao/local/pyenv/versions/analysis/lib/python3.10/site-packages/autograd/numpy/numpy_vjps.py:78: RuntimeWarning: divide by zero encountered in divide\n",
      "  defvjp(anp.log,    lambda ans, x : lambda g: g / x)\n"
     ]
    },
    {
     "name": "stdout",
     "output_type": "stream",
     "text": [
      "Some input pH values are impossibly high given the input alkalinity;\n",
      "returning np.nan rather than negative DIC values.\n",
      "Some input pH values are impossibly high given the input alkalinity;\n",
      "returning np.nan rather than negative DIC values.\n",
      "Some input pH values are impossibly high given the input alkalinity;\n",
      "returning np.nan rather than negative DIC values.\n",
      "Some input pH values are impossibly high given the input alkalinity;\n",
      "returning np.nan rather than negative DIC values.\n",
      "Some input pH values are impossibly high given the input alkalinity;\n",
      "returning np.nan rather than negative DIC values.\n"
     ]
    },
    {
     "name": "stderr",
     "output_type": "stream",
     "text": [
      "/lus/bnchlu1/shao/local/pyenv/versions/analysis/lib/python3.10/site-packages/autograd/tracer.py:48: RuntimeWarning: divide by zero encountered in log\n",
      "  return f_raw(*args, **kwargs)\n",
      "/lus/bnchlu1/shao/local/pyenv/versions/analysis/lib/python3.10/site-packages/autograd/numpy/numpy_vjps.py:78: RuntimeWarning: divide by zero encountered in divide\n",
      "  defvjp(anp.log,    lambda ans, x : lambda g: g / x)\n"
     ]
    },
    {
     "name": "stdout",
     "output_type": "stream",
     "text": [
      "Some input pH values are impossibly high given the input alkalinity;\n",
      "returning np.nan rather than negative DIC values.\n"
     ]
    },
    {
     "name": "stderr",
     "output_type": "stream",
     "text": [
      "/lus/bnchlu1/shao/local/pyenv/versions/analysis/lib/python3.10/site-packages/autograd/tracer.py:48: RuntimeWarning: divide by zero encountered in log\n",
      "  return f_raw(*args, **kwargs)\n",
      "/lus/bnchlu1/shao/local/pyenv/versions/analysis/lib/python3.10/site-packages/autograd/numpy/numpy_vjps.py:78: RuntimeWarning: divide by zero encountered in divide\n",
      "  defvjp(anp.log,    lambda ans, x : lambda g: g / x)\n"
     ]
    },
    {
     "name": "stdout",
     "output_type": "stream",
     "text": [
      "Some input pH values are impossibly high given the input alkalinity;\n",
      "returning np.nan rather than negative DIC values.\n"
     ]
    },
    {
     "name": "stderr",
     "output_type": "stream",
     "text": [
      "/lus/bnchlu1/shao/local/pyenv/versions/analysis/lib/python3.10/site-packages/autograd/tracer.py:48: RuntimeWarning: divide by zero encountered in log\n",
      "  return f_raw(*args, **kwargs)\n",
      "/lus/bnchlu1/shao/local/pyenv/versions/analysis/lib/python3.10/site-packages/autograd/numpy/numpy_vjps.py:78: RuntimeWarning: divide by zero encountered in divide\n",
      "  defvjp(anp.log,    lambda ans, x : lambda g: g / x)\n"
     ]
    },
    {
     "name": "stdout",
     "output_type": "stream",
     "text": [
      "Some input pH values are impossibly high given the input alkalinity;\n",
      "returning np.nan rather than negative DIC values."
     ]
    },
    {
     "name": "stderr",
     "output_type": "stream",
     "text": [
      "/lus/bnchlu1/shao/local/pyenv/versions/analysis/lib/python3.10/site-packages/autograd/tracer.py:48: RuntimeWarning: divide by zero encountered in log\n",
      "  return f_raw(*args, **kwargs)\n"
     ]
    },
    {
     "name": "stdout",
     "output_type": "stream",
     "text": [
      "\n"
     ]
    },
    {
     "name": "stderr",
     "output_type": "stream",
     "text": [
      "/lus/bnchlu1/shao/local/pyenv/versions/analysis/lib/python3.10/site-packages/autograd/numpy/numpy_vjps.py:78: RuntimeWarning: divide by zero encountered in divide\n",
      "  defvjp(anp.log,    lambda ans, x : lambda g: g / x)\n"
     ]
    },
    {
     "name": "stdout",
     "output_type": "stream",
     "text": [
      "Some input pH values are impossibly high given the input alkalinity;Some input pH values are impossibly high given the input alkalinity;\n",
      "\n",
      "returning np.nan rather than negative DIC values.returning np.nan rather than negative DIC values.\n",
      "\n"
     ]
    },
    {
     "name": "stderr",
     "output_type": "stream",
     "text": [
      "/lus/bnchlu1/shao/local/pyenv/versions/analysis/lib/python3.10/site-packages/autograd/tracer.py:48: RuntimeWarning: divide by zero encountered in log\n",
      "  return f_raw(*args, **kwargs)\n"
     ]
    },
    {
     "name": "stdout",
     "output_type": "stream",
     "text": [
      "Some input pH values are impossibly high given the input alkalinity;"
     ]
    },
    {
     "name": "stderr",
     "output_type": "stream",
     "text": [
      "/lus/bnchlu1/shao/local/pyenv/versions/analysis/lib/python3.10/site-packages/autograd/numpy/numpy_vjps.py:78: RuntimeWarning: divide by zero encountered in divide\n",
      "  defvjp(anp.log,    lambda ans, x : lambda g: g / x)\n"
     ]
    },
    {
     "name": "stdout",
     "output_type": "stream",
     "text": [
      "\n"
     ]
    },
    {
     "name": "stderr",
     "output_type": "stream",
     "text": [
      "/lus/bnchlu1/shao/local/pyenv/versions/analysis/lib/python3.10/site-packages/autograd/numpy/numpy_vjps.py:78: RuntimeWarning: divide by zero encountered in divide\n",
      "  defvjp(anp.log,    lambda ans, x : lambda g: g / x)\n"
     ]
    },
    {
     "name": "stdout",
     "output_type": "stream",
     "text": [
      "returning np.nan rather than negative DIC values."
     ]
    },
    {
     "name": "stderr",
     "output_type": "stream",
     "text": [
      "/lus/bnchlu1/shao/local/pyenv/versions/analysis/lib/python3.10/site-packages/autograd/tracer.py:48: RuntimeWarning: divide by zero encountered in log\n",
      "  return f_raw(*args, **kwargs)\n"
     ]
    },
    {
     "name": "stdout",
     "output_type": "stream",
     "text": [
      "\n",
      "Some input pH values are impossibly high given the input alkalinity;\n",
      "returning np.nan rather than negative DIC values."
     ]
    },
    {
     "name": "stderr",
     "output_type": "stream",
     "text": [
      "/lus/bnchlu1/shao/local/pyenv/versions/analysis/lib/python3.10/site-packages/autograd/tracer.py:48: RuntimeWarning: divide by zero encountered in log\n",
      "  return f_raw(*args, **kwargs)\n"
     ]
    },
    {
     "name": "stdout",
     "output_type": "stream",
     "text": [
      "\n"
     ]
    },
    {
     "name": "stderr",
     "output_type": "stream",
     "text": [
      "/lus/bnchlu1/shao/local/pyenv/versions/analysis/lib/python3.10/site-packages/autograd/numpy/numpy_vjps.py:78: RuntimeWarning: divide by zero encountered in divide\n",
      "  defvjp(anp.log,    lambda ans, x : lambda g: g / x)\n"
     ]
    },
    {
     "name": "stdout",
     "output_type": "stream",
     "text": [
      "Some input pH values are impossibly high given the input alkalinity;\n"
     ]
    },
    {
     "name": "stderr",
     "output_type": "stream",
     "text": [
      "/lus/bnchlu1/shao/local/pyenv/versions/analysis/lib/python3.10/site-packages/autograd/tracer.py:48: RuntimeWarning: divide by zero encountered in log\n",
      "  return f_raw(*args, **kwargs)\n"
     ]
    },
    {
     "name": "stdout",
     "output_type": "stream",
     "text": [
      "returning np.nan rather than negative DIC values.\n"
     ]
    },
    {
     "name": "stderr",
     "output_type": "stream",
     "text": [
      "/lus/bnchlu1/shao/local/pyenv/versions/analysis/lib/python3.10/site-packages/autograd/numpy/numpy_vjps.py:78: RuntimeWarning: divide by zero encountered in divide\n",
      "  defvjp(anp.log,    lambda ans, x : lambda g: g / x)\n"
     ]
    },
    {
     "name": "stdout",
     "output_type": "stream",
     "text": [
      "Some input pH values are impossibly high given the input alkalinity;\n",
      "returning np.nan rather than negative DIC values.\n",
      "Some input pH values are impossibly high given the input alkalinity;\n",
      "returning np.nan rather than negative DIC values.\n",
      "\n",
      "\n",
      "Some input pH values are impossibly high given the input alkalinity;returning np.nan rather than negative DIC values."
     ]
    },
    {
     "name": "stderr",
     "output_type": "stream",
     "text": [
      "/lus/bnchlu1/shao/local/pyenv/versions/analysis/lib/python3.10/site-packages/autograd/tracer.py:48: RuntimeWarning: divide by zero encountered in log\n",
      "  return f_raw(*args, **kwargs)\n",
      "/lus/bnchlu1/shao/local/pyenv/versions/analysis/lib/python3.10/site-packages/autograd/numpy/numpy_vjps.py:78: RuntimeWarning: divide by zero encountered in divide\n",
      "  defvjp(anp.log,    lambda ans, x : lambda g: g / x)\n",
      "/lus/bnchlu1/shao/local/pyenv/versions/analysis/lib/python3.10/site-packages/autograd/tracer.py:48: RuntimeWarning: divide by zero encountered in log\n",
      "  return f_raw(*args, **kwargs)\n",
      "/lus/bnchlu1/shao/local/pyenv/versions/analysis/lib/python3.10/site-packages/autograd/tracer.py:48: RuntimeWarning: divide by zero encountered in log\n",
      "  return f_raw(*args, **kwargs)\n",
      "/lus/bnchlu1/shao/local/pyenv/versions/analysis/lib/python3.10/site-packages/autograd/numpy/numpy_vjps.py:78: RuntimeWarning: divide by zero encountered in divide\n",
      "  defvjp(anp.log,    lambda ans, x : lambda g: g / x)\n"
     ]
    },
    {
     "name": "stdout",
     "output_type": "stream",
     "text": [
      "Some input pH values are impossibly high given the input alkalinity;"
     ]
    },
    {
     "name": "stderr",
     "output_type": "stream",
     "text": [
      "/lus/bnchlu1/shao/local/pyenv/versions/analysis/lib/python3.10/site-packages/autograd/numpy/numpy_vjps.py:78: RuntimeWarning: divide by zero encountered in divide\n",
      "  defvjp(anp.log,    lambda ans, x : lambda g: g / x)\n"
     ]
    },
    {
     "name": "stdout",
     "output_type": "stream",
     "text": [
      "\n",
      "returning np.nan rather than negative DIC values.\n"
     ]
    },
    {
     "name": "stderr",
     "output_type": "stream",
     "text": [
      "/lus/bnchlu1/shao/local/pyenv/versions/analysis/lib/python3.10/site-packages/autograd/tracer.py:48: RuntimeWarning: divide by zero encountered in log\n",
      "  return f_raw(*args, **kwargs)\n"
     ]
    },
    {
     "name": "stdout",
     "output_type": "stream",
     "text": [
      "Some input pH values are impossibly high given the input alkalinity;"
     ]
    },
    {
     "name": "stderr",
     "output_type": "stream",
     "text": [
      "/lus/bnchlu1/shao/local/pyenv/versions/analysis/lib/python3.10/site-packages/autograd/numpy/numpy_vjps.py:78: RuntimeWarning: divide by zero encountered in divide\n",
      "  defvjp(anp.log,    lambda ans, x : lambda g: g / x)\n"
     ]
    },
    {
     "name": "stdout",
     "output_type": "stream",
     "text": [
      "\n",
      "returning np.nan rather than negative DIC values.\n",
      "Some input pH values are impossibly high given the input alkalinity;\n",
      "returning np.nan rather than negative DIC values.Some input pH values are impossibly high given the input alkalinity;\n",
      "\n",
      "returning np.nan rather than negative DIC values.Some input pH values are impossibly high given the input alkalinity;\n",
      "\n",
      "returning np.nan rather than negative DIC values.\n"
     ]
    },
    {
     "name": "stderr",
     "output_type": "stream",
     "text": [
      "/lus/bnchlu1/shao/local/pyenv/versions/analysis/lib/python3.10/site-packages/autograd/tracer.py:48: RuntimeWarning: divide by zero encountered in log\n",
      "  return f_raw(*args, **kwargs)\n",
      "/lus/bnchlu1/shao/local/pyenv/versions/analysis/lib/python3.10/site-packages/autograd/numpy/numpy_vjps.py:78: RuntimeWarning: divide by zero encountered in divide\n",
      "  defvjp(anp.log,    lambda ans, x : lambda g: g / x)\n",
      "/lus/bnchlu1/shao/local/pyenv/versions/analysis/lib/python3.10/site-packages/autograd/tracer.py:48: RuntimeWarning: divide by zero encountered in log\n",
      "  return f_raw(*args, **kwargs)\n",
      "/lus/bnchlu1/shao/local/pyenv/versions/analysis/lib/python3.10/site-packages/autograd/numpy/numpy_vjps.py:78: RuntimeWarning: divide by zero encountered in divide\n",
      "  defvjp(anp.log,    lambda ans, x : lambda g: g / x)\n"
     ]
    },
    {
     "name": "stdout",
     "output_type": "stream",
     "text": [
      "Some input pH values are impossibly high given the input alkalinity;\n",
      "returning np.nan rather than negative DIC values.Some input pH values are impossibly high given the input alkalinity;\n"
     ]
    },
    {
     "name": "stderr",
     "output_type": "stream",
     "text": [
      "/lus/bnchlu1/shao/local/pyenv/versions/analysis/lib/python3.10/site-packages/autograd/tracer.py:48: RuntimeWarning: divide by zero encountered in log\n",
      "  return f_raw(*args, **kwargs)\n"
     ]
    },
    {
     "name": "stdout",
     "output_type": "stream",
     "text": [
      "\n",
      "Some input pH values are impossibly high given the input alkalinity;returning np.nan rather than negative DIC values.\n",
      "\n"
     ]
    },
    {
     "name": "stderr",
     "output_type": "stream",
     "text": [
      "/lus/bnchlu1/shao/local/pyenv/versions/analysis/lib/python3.10/site-packages/autograd/numpy/numpy_vjps.py:78: RuntimeWarning: divide by zero encountered in divide\n",
      "  defvjp(anp.log,    lambda ans, x : lambda g: g / x)\n"
     ]
    },
    {
     "name": "stdout",
     "output_type": "stream",
     "text": [
      "returning np.nan rather than negative DIC values."
     ]
    },
    {
     "name": "stderr",
     "output_type": "stream",
     "text": [
      "/lus/bnchlu1/shao/local/pyenv/versions/analysis/lib/python3.10/site-packages/autograd/tracer.py:48: RuntimeWarning: divide by zero encountered in log\n",
      "  return f_raw(*args, **kwargs)\n"
     ]
    },
    {
     "name": "stdout",
     "output_type": "stream",
     "text": [
      "\n"
     ]
    },
    {
     "name": "stderr",
     "output_type": "stream",
     "text": [
      "/lus/bnchlu1/shao/local/pyenv/versions/analysis/lib/python3.10/site-packages/autograd/numpy/numpy_vjps.py:78: RuntimeWarning: divide by zero encountered in divide\n",
      "  defvjp(anp.log,    lambda ans, x : lambda g: g / x)\n"
     ]
    },
    {
     "name": "stdout",
     "output_type": "stream",
     "text": [
      "Some input pH values are impossibly high given the input alkalinity;\n",
      "returning np.nan rather than negative DIC values.\n",
      "Some input pH values are impossibly high given the input alkalinity;\n",
      "returning np.nan rather than negative DIC values.\n",
      "Some input pH values are impossibly high given the input alkalinity;\n",
      "returning np.nan rather than negative DIC values.\n",
      "Some input pH values are impossibly high given the input alkalinity;\n",
      "returning np.nan rather than negative DIC values.\n",
      "Some input pH values are impossibly high given the input alkalinity;\n",
      "Some input pH values are impossibly high given the input alkalinity;returning np.nan rather than negative DIC values.\n",
      "\n",
      "Some input pH values are impossibly high given the input alkalinity;\n",
      "returning np.nan rather than negative DIC values.returning np.nan rather than negative DIC values.\n",
      "\n",
      "Some input pH values are impossibly high given the input alkalinity;\n",
      "returning np.nan rather than negative DIC values.\n",
      "Some input pH values are impossibly high given the input alkalinity;\n",
      "returning np.nan rather than negative DIC values.\n",
      "Some input pH values are impossibly high given the input alkalinity;returning np.nan rather than negative DIC values.\n",
      "\n",
      "Some input pH values are impossibly high given the input alkalinity;\n",
      "returning np.nan rather than negative DIC values.\n"
     ]
    },
    {
     "name": "stderr",
     "output_type": "stream",
     "text": [
      "/lus/bnchlu1/shao/local/pyenv/versions/analysis/lib/python3.10/site-packages/autograd/tracer.py:48: RuntimeWarning: divide by zero encountered in log\n",
      "  return f_raw(*args, **kwargs)\n",
      "/lus/bnchlu1/shao/local/pyenv/versions/analysis/lib/python3.10/site-packages/autograd/numpy/numpy_vjps.py:78: RuntimeWarning: divide by zero encountered in divide\n",
      "  defvjp(anp.log,    lambda ans, x : lambda g: g / x)\n"
     ]
    },
    {
     "name": "stdout",
     "output_type": "stream",
     "text": [
      "Some input pH values are impossibly high given the input alkalinity;\n",
      "returning np.nan rather than negative DIC values.\n"
     ]
    },
    {
     "name": "stderr",
     "output_type": "stream",
     "text": [
      "/lus/bnchlu1/shao/local/pyenv/versions/analysis/lib/python3.10/site-packages/autograd/tracer.py:48: RuntimeWarning: divide by zero encountered in log\n",
      "  return f_raw(*args, **kwargs)\n",
      "/lus/bnchlu1/shao/local/pyenv/versions/analysis/lib/python3.10/site-packages/autograd/numpy/numpy_vjps.py:78: RuntimeWarning: divide by zero encountered in divide\n",
      "  defvjp(anp.log,    lambda ans, x : lambda g: g / x)\n"
     ]
    },
    {
     "name": "stdout",
     "output_type": "stream",
     "text": [
      "Some input pH values are impossibly high given the input alkalinity;\n",
      "returning np.nan rather than negative DIC values.\n",
      "Some input pH values are impossibly high given the input alkalinity;\n",
      "Some input pH values are impossibly high given the input alkalinity;returning np.nan rather than negative DIC values.\n",
      "Some input pH values are impossibly high given the input alkalinity;\n",
      "returning np.nan rather than negative DIC values.\n",
      "\n",
      "returning np.nan rather than negative DIC values.\n",
      "Some input pH values are impossibly high given the input alkalinity;\n",
      "returning np.nan rather than negative DIC values.\n"
     ]
    },
    {
     "name": "stderr",
     "output_type": "stream",
     "text": [
      "/lus/bnchlu1/shao/local/pyenv/versions/analysis/lib/python3.10/site-packages/autograd/tracer.py:48: RuntimeWarning: divide by zero encountered in log\n",
      "  return f_raw(*args, **kwargs)\n",
      "/lus/bnchlu1/shao/local/pyenv/versions/analysis/lib/python3.10/site-packages/autograd/numpy/numpy_vjps.py:78: RuntimeWarning: divide by zero encountered in divide\n",
      "  defvjp(anp.log,    lambda ans, x : lambda g: g / x)\n",
      "/lus/bnchlu1/shao/local/pyenv/versions/analysis/lib/python3.10/site-packages/autograd/tracer.py:48: RuntimeWarning: divide by zero encountered in log\n",
      "  return f_raw(*args, **kwargs)\n"
     ]
    },
    {
     "name": "stdout",
     "output_type": "stream",
     "text": [
      "Some input pH values are impossibly high given the input alkalinity;"
     ]
    },
    {
     "name": "stderr",
     "output_type": "stream",
     "text": [
      "/lus/bnchlu1/shao/local/pyenv/versions/analysis/lib/python3.10/site-packages/autograd/numpy/numpy_vjps.py:78: RuntimeWarning: divide by zero encountered in divide\n",
      "  defvjp(anp.log,    lambda ans, x : lambda g: g / x)\n"
     ]
    },
    {
     "name": "stdout",
     "output_type": "stream",
     "text": [
      "\n",
      "returning np.nan rather than negative DIC values.Some input pH values are impossibly high given the input alkalinity;\n",
      "\n",
      "returning np.nan rather than negative DIC values.\n",
      "Some input pH values are impossibly high given the input alkalinity;\n",
      "returning np.nan rather than negative DIC values.\n"
     ]
    },
    {
     "name": "stderr",
     "output_type": "stream",
     "text": [
      "/lus/bnchlu1/shao/local/pyenv/versions/analysis/lib/python3.10/site-packages/autograd/tracer.py:48: RuntimeWarning: divide by zero encountered in log\n",
      "  return f_raw(*args, **kwargs)\n",
      "/lus/bnchlu1/shao/local/pyenv/versions/analysis/lib/python3.10/site-packages/autograd/numpy/numpy_vjps.py:78: RuntimeWarning: divide by zero encountered in divide\n",
      "  defvjp(anp.log,    lambda ans, x : lambda g: g / x)\n"
     ]
    },
    {
     "name": "stdout",
     "output_type": "stream",
     "text": [
      "Some input pH values are impossibly high given the input alkalinity;\n",
      "returning np.nan rather than negative DIC values.\n",
      "returning np.nan rather than negative DIC values.Some input pH values are impossibly high given the input alkalinity;\n",
      "\n",
      "Some input pH values are impossibly high given the input alkalinity;\n",
      "returning np.nan rather than negative DIC values.\n",
      "Some input pH values are impossibly high given the input alkalinity;\n",
      "returning np.nan rather than negative DIC values.\n",
      "Some input pH values are impossibly high given the input alkalinity;\n",
      "returning np.nan rather than negative DIC values.\n",
      "Some input pH values are impossibly high given the input alkalinity;\n",
      "returning np.nan rather than negative DIC values.\n"
     ]
    },
    {
     "name": "stderr",
     "output_type": "stream",
     "text": [
      "/lus/bnchlu1/shao/local/pyenv/versions/analysis/lib/python3.10/site-packages/autograd/tracer.py:48: RuntimeWarning: divide by zero encountered in log\n",
      "  return f_raw(*args, **kwargs)\n",
      "/lus/bnchlu1/shao/local/pyenv/versions/analysis/lib/python3.10/site-packages/autograd/numpy/numpy_vjps.py:78: RuntimeWarning: divide by zero encountered in divide\n",
      "  defvjp(anp.log,    lambda ans, x : lambda g: g / x)\n"
     ]
    },
    {
     "name": "stdout",
     "output_type": "stream",
     "text": [
      "Some input pH values are impossibly high given the input alkalinity;\n"
     ]
    },
    {
     "name": "stderr",
     "output_type": "stream",
     "text": [
      "/lus/bnchlu1/shao/local/pyenv/versions/analysis/lib/python3.10/site-packages/autograd/tracer.py:48: RuntimeWarning: divide by zero encountered in log\n",
      "  return f_raw(*args, **kwargs)\n"
     ]
    },
    {
     "name": "stdout",
     "output_type": "stream",
     "text": [
      "returning np.nan rather than negative DIC values.\n"
     ]
    },
    {
     "name": "stderr",
     "output_type": "stream",
     "text": [
      "/lus/bnchlu1/shao/local/pyenv/versions/analysis/lib/python3.10/site-packages/autograd/numpy/numpy_vjps.py:78: RuntimeWarning: divide by zero encountered in divide\n",
      "  defvjp(anp.log,    lambda ans, x : lambda g: g / x)\n",
      "/lus/bnchlu1/shao/local/pyenv/versions/analysis/lib/python3.10/site-packages/autograd/tracer.py:48: RuntimeWarning: divide by zero encountered in log\n",
      "  return f_raw(*args, **kwargs)\n",
      "/lus/bnchlu1/shao/local/pyenv/versions/analysis/lib/python3.10/site-packages/autograd/numpy/numpy_vjps.py:78: RuntimeWarning: divide by zero encountered in divide\n",
      "  defvjp(anp.log,    lambda ans, x : lambda g: g / x)\n"
     ]
    },
    {
     "name": "stdout",
     "output_type": "stream",
     "text": [
      "Some input pH values are impossibly high given the input alkalinity;\n",
      "returning np.nan rather than negative DIC values.\n",
      "Some input pH values are impossibly high given the input alkalinity;\n",
      "returning np.nan rather than negative DIC values.\n"
     ]
    },
    {
     "name": "stderr",
     "output_type": "stream",
     "text": [
      "/lus/bnchlu1/shao/local/pyenv/versions/analysis/lib/python3.10/site-packages/autograd/tracer.py:48: RuntimeWarning: divide by zero encountered in log\n",
      "  return f_raw(*args, **kwargs)\n",
      "/lus/bnchlu1/shao/local/pyenv/versions/analysis/lib/python3.10/site-packages/autograd/numpy/numpy_vjps.py:78: RuntimeWarning: divide by zero encountered in divide\n",
      "  defvjp(anp.log,    lambda ans, x : lambda g: g / x)\n",
      "/lus/bnchlu1/shao/local/pyenv/versions/analysis/lib/python3.10/site-packages/autograd/tracer.py:48: RuntimeWarning: divide by zero encountered in log\n",
      "  return f_raw(*args, **kwargs)\n",
      "/lus/bnchlu1/shao/local/pyenv/versions/analysis/lib/python3.10/site-packages/autograd/numpy/numpy_vjps.py:78: RuntimeWarning: divide by zero encountered in divide\n",
      "  defvjp(anp.log,    lambda ans, x : lambda g: g / x)\n"
     ]
    },
    {
     "name": "stdout",
     "output_type": "stream",
     "text": [
      "Some input pH values are impossibly high given the input alkalinity;\n",
      "returning np.nan rather than negative DIC values.\n",
      "Some input pH values are impossibly high given the input alkalinity;\n",
      "returning np.nan rather than negative DIC values.\n",
      "Some input pH values are impossibly high given the input alkalinity;\n",
      "returning np.nan rather than negative DIC values.\n",
      "Some input pH values are impossibly high given the input alkalinity;\n",
      "returning np.nan rather than negative DIC values.\n",
      "Some input pH values are impossibly high given the input alkalinity;\n",
      "returning np.nan rather than negative DIC values.\n",
      "Some input pH values are impossibly high given the input alkalinity;\n",
      "returning np.nan rather than negative DIC values.\n",
      "Some input pH values are impossibly high given the input alkalinity;\n",
      "returning np.nan rather than negative DIC values.Some input pH values are impossibly high given the input alkalinity;\n",
      "\n",
      "\n",
      "returning np.nan rather than negative DIC values."
     ]
    },
    {
     "name": "stderr",
     "output_type": "stream",
     "text": [
      "/lus/bnchlu1/shao/local/pyenv/versions/analysis/lib/python3.10/site-packages/autograd/tracer.py:48: RuntimeWarning: divide by zero encountered in log\n",
      "  return f_raw(*args, **kwargs)\n",
      "/lus/bnchlu1/shao/local/pyenv/versions/analysis/lib/python3.10/site-packages/autograd/numpy/numpy_vjps.py:78: RuntimeWarning: divide by zero encountered in divide\n",
      "  defvjp(anp.log,    lambda ans, x : lambda g: g / x)\n"
     ]
    },
    {
     "name": "stdout",
     "output_type": "stream",
     "text": [
      "Some input pH values are impossibly high given the input alkalinity;returning np.nan rather than negative DIC values.\n",
      "\n"
     ]
    },
    {
     "name": "stderr",
     "output_type": "stream",
     "text": [
      "/lus/bnchlu1/shao/local/pyenv/versions/analysis/lib/python3.10/site-packages/autograd/tracer.py:48: RuntimeWarning: divide by zero encountered in log\n",
      "  return f_raw(*args, **kwargs)\n",
      "/lus/bnchlu1/shao/local/pyenv/versions/analysis/lib/python3.10/site-packages/autograd/numpy/numpy_vjps.py:78: RuntimeWarning: divide by zero encountered in divide\n",
      "  defvjp(anp.log,    lambda ans, x : lambda g: g / x)\n"
     ]
    },
    {
     "name": "stdout",
     "output_type": "stream",
     "text": [
      "Some input pH values are impossibly high given the input alkalinity;returning np.nan rather than negative DIC values.\n",
      "\n",
      "Some input pH values are impossibly high given the input alkalinity;\n",
      "returning np.nan rather than negative DIC values.\n",
      "Some input pH values are impossibly high given the input alkalinity;\n",
      "returning np.nan rather than negative DIC values.\n",
      "Some input pH values are impossibly high given the input alkalinity;\n",
      "returning np.nan rather than negative DIC values.\n",
      "Some input pH values are impossibly high given the input alkalinity;Some input pH values are impossibly high given the input alkalinity;\n",
      "\n",
      "returning np.nan rather than negative DIC values.returning np.nan rather than negative DIC values.\n",
      "\n",
      "Some input pH values are impossibly high given the input alkalinity;Some input pH values are impossibly high given the input alkalinity;"
     ]
    },
    {
     "name": "stderr",
     "output_type": "stream",
     "text": [
      "/lus/bnchlu1/shao/local/pyenv/versions/analysis/lib/python3.10/site-packages/autograd/tracer.py:48: RuntimeWarning: divide by zero encountered in log\n",
      "  return f_raw(*args, **kwargs)\n"
     ]
    },
    {
     "name": "stdout",
     "output_type": "stream",
     "text": [
      "\n",
      "\n",
      "returning np.nan rather than negative DIC values."
     ]
    },
    {
     "name": "stderr",
     "output_type": "stream",
     "text": [
      "/lus/bnchlu1/shao/local/pyenv/versions/analysis/lib/python3.10/site-packages/autograd/numpy/numpy_vjps.py:78: RuntimeWarning: divide by zero encountered in divide\n",
      "  defvjp(anp.log,    lambda ans, x : lambda g: g / x)\n"
     ]
    },
    {
     "name": "stdout",
     "output_type": "stream",
     "text": [
      "returning np.nan rather than negative DIC values.\n",
      "Some input pH values are impossibly high given the input alkalinity;\n",
      "\n",
      "returning np.nan rather than negative DIC values.\n",
      "Some input pH values are impossibly high given the input alkalinity;\n",
      "returning np.nan rather than negative DIC values.Some input pH values are impossibly high given the input alkalinity;\n",
      "\n",
      "returning np.nan rather than negative DIC values.\n",
      "Some input pH values are impossibly high given the input alkalinity;\n",
      "returning np.nan rather than negative DIC values.\n"
     ]
    },
    {
     "name": "stderr",
     "output_type": "stream",
     "text": [
      "/lus/bnchlu1/shao/local/pyenv/versions/analysis/lib/python3.10/site-packages/autograd/tracer.py:48: RuntimeWarning: divide by zero encountered in log\n",
      "  return f_raw(*args, **kwargs)\n",
      "/lus/bnchlu1/shao/local/pyenv/versions/analysis/lib/python3.10/site-packages/autograd/numpy/numpy_vjps.py:78: RuntimeWarning: divide by zero encountered in divide\n",
      "  defvjp(anp.log,    lambda ans, x : lambda g: g / x)\n",
      "/lus/bnchlu1/shao/local/pyenv/versions/analysis/lib/python3.10/site-packages/autograd/tracer.py:48: RuntimeWarning: divide by zero encountered in log\n",
      "  return f_raw(*args, **kwargs)\n",
      "/lus/bnchlu1/shao/local/pyenv/versions/analysis/lib/python3.10/site-packages/autograd/numpy/numpy_vjps.py:78: RuntimeWarning: divide by zero encountered in divide\n",
      "  defvjp(anp.log,    lambda ans, x : lambda g: g / x)\n"
     ]
    },
    {
     "name": "stdout",
     "output_type": "stream",
     "text": [
      "Some input pH values are impossibly high given the input alkalinity;\n",
      "returning np.nan rather than negative DIC values.\n"
     ]
    },
    {
     "name": "stderr",
     "output_type": "stream",
     "text": [
      "/lus/bnchlu1/shao/local/pyenv/versions/analysis/lib/python3.10/site-packages/autograd/tracer.py:48: RuntimeWarning: divide by zero encountered in log\n",
      "  return f_raw(*args, **kwargs)\n"
     ]
    },
    {
     "name": "stdout",
     "output_type": "stream",
     "text": [
      "Some input pH values are impossibly high given the input alkalinity;\n",
      "\n",
      "Some input pH values are impossibly high given the input alkalinity;"
     ]
    },
    {
     "name": "stderr",
     "output_type": "stream",
     "text": [
      "/lus/bnchlu1/shao/local/pyenv/versions/analysis/lib/python3.10/site-packages/autograd/numpy/numpy_vjps.py:78: RuntimeWarning: divide by zero encountered in divide\n",
      "  defvjp(anp.log,    lambda ans, x : lambda g: g / x)\n"
     ]
    },
    {
     "name": "stdout",
     "output_type": "stream",
     "text": [
      "returning np.nan rather than negative DIC values.\n",
      "returning np.nan rather than negative DIC values.\n",
      "Some input pH values are impossibly high given the input alkalinity;\n",
      "returning np.nan rather than negative DIC values.\n",
      "Some input pH values are impossibly high given the input alkalinity;Some input pH values are impossibly high given the input alkalinity;\n",
      "\n",
      "returning np.nan rather than negative DIC values.returning np.nan rather than negative DIC values.\n",
      "\n",
      "Some input pH values are impossibly high given the input alkalinity;\n",
      "returning np.nan rather than negative DIC values.\n",
      "Some input pH values are impossibly high given the input alkalinity;\n",
      "returning np.nan rather than negative DIC values.\n",
      "Some input pH values are impossibly high given the input alkalinity;\n",
      "returning np.nan rather than negative DIC values.\n",
      "Some input pH values are impossibly high given the input alkalinity;returning np.nan rather than negative DIC values.\n",
      "\n"
     ]
    },
    {
     "name": "stderr",
     "output_type": "stream",
     "text": [
      "/lus/bnchlu1/shao/local/pyenv/versions/analysis/lib/python3.10/site-packages/autograd/tracer.py:48: RuntimeWarning: divide by zero encountered in log\n",
      "  return f_raw(*args, **kwargs)\n",
      "/lus/bnchlu1/shao/local/pyenv/versions/analysis/lib/python3.10/site-packages/autograd/numpy/numpy_vjps.py:78: RuntimeWarning: divide by zero encountered in divide\n",
      "  defvjp(anp.log,    lambda ans, x : lambda g: g / x)\n",
      "/lus/bnchlu1/shao/local/pyenv/versions/analysis/lib/python3.10/site-packages/autograd/tracer.py:48: RuntimeWarning: divide by zero encountered in log\n",
      "  return f_raw(*args, **kwargs)\n",
      "/lus/bnchlu1/shao/local/pyenv/versions/analysis/lib/python3.10/site-packages/autograd/numpy/numpy_vjps.py:78: RuntimeWarning: divide by zero encountered in divide\n",
      "  defvjp(anp.log,    lambda ans, x : lambda g: g / x)\n",
      "/lus/bnchlu1/shao/local/pyenv/versions/analysis/lib/python3.10/site-packages/autograd/tracer.py:48: RuntimeWarning: divide by zero encountered in log\n",
      "  return f_raw(*args, **kwargs)\n",
      "/lus/bnchlu1/shao/local/pyenv/versions/analysis/lib/python3.10/site-packages/autograd/numpy/numpy_vjps.py:78: RuntimeWarning: divide by zero encountered in divide\n",
      "  defvjp(anp.log,    lambda ans, x : lambda g: g / x)\n",
      "/lus/bnchlu1/shao/local/pyenv/versions/analysis/lib/python3.10/site-packages/autograd/tracer.py:48: RuntimeWarning: divide by zero encountered in log\n",
      "  return f_raw(*args, **kwargs)\n",
      "/lus/bnchlu1/shao/local/pyenv/versions/analysis/lib/python3.10/site-packages/autograd/numpy/numpy_vjps.py:78: RuntimeWarning: divide by zero encountered in divide\n",
      "  defvjp(anp.log,    lambda ans, x : lambda g: g / x)\n",
      "/lus/bnchlu1/shao/local/pyenv/versions/analysis/lib/python3.10/site-packages/autograd/tracer.py:48: RuntimeWarning: divide by zero encountered in log\n",
      "  return f_raw(*args, **kwargs)\n",
      "/lus/bnchlu1/shao/local/pyenv/versions/analysis/lib/python3.10/site-packages/autograd/numpy/numpy_vjps.py:78: RuntimeWarning: divide by zero encountered in divide\n",
      "  defvjp(anp.log,    lambda ans, x : lambda g: g / x)\n"
     ]
    },
    {
     "name": "stdout",
     "output_type": "stream",
     "text": [
      "Some input pH values are impossibly high given the input alkalinity;\n",
      "returning np.nan rather than negative DIC values.\n",
      "Some input pH values are impossibly high given the input alkalinity;\n",
      "Some input pH values are impossibly high given the input alkalinity;returning np.nan rather than negative DIC values.\n",
      "\n",
      "returning np.nan rather than negative DIC values.\n",
      "Some input pH values are impossibly high given the input alkalinity;\n",
      "returning np.nan rather than negative DIC values.\n",
      "Some input pH values are impossibly high given the input alkalinity;\n",
      "returning np.nan rather than negative DIC values.\n",
      "Some input pH values are impossibly high given the input alkalinity;\n",
      "returning np.nan rather than negative DIC values.\n",
      "Some input pH values are impossibly high given the input alkalinity;returning np.nan rather than negative DIC values.\n",
      "\n",
      "Some input pH values are impossibly high given the input alkalinity;\n",
      "returning np.nan rather than negative DIC values.\n",
      "Some input pH values are impossibly high given the input alkalinity;\n",
      "returning np.nan rather than negative DIC values.\n"
     ]
    },
    {
     "name": "stderr",
     "output_type": "stream",
     "text": [
      "/lus/bnchlu1/shao/local/pyenv/versions/analysis/lib/python3.10/site-packages/autograd/tracer.py:48: RuntimeWarning: divide by zero encountered in log\n",
      "  return f_raw(*args, **kwargs)\n",
      "/lus/bnchlu1/shao/local/pyenv/versions/analysis/lib/python3.10/site-packages/autograd/numpy/numpy_vjps.py:78: RuntimeWarning: divide by zero encountered in divide\n",
      "  defvjp(anp.log,    lambda ans, x : lambda g: g / x)\n"
     ]
    },
    {
     "name": "stdout",
     "output_type": "stream",
     "text": [
      "Some input pH values are impossibly high given the input alkalinity;\n",
      "returning np.nan rather than negative DIC values.\n",
      "Some input pH values are impossibly high given the input alkalinity;\n",
      "returning np.nan rather than negative DIC values.\n",
      "Some input pH values are impossibly high given the input alkalinity;\n",
      "returning np.nan rather than negative DIC values.\n",
      "Some input pH values are impossibly high given the input alkalinity;\n",
      "returning np.nan rather than negative DIC values.\n",
      "Some input pH values are impossibly high given the input alkalinity;\n",
      "returning np.nan rather than negative DIC values.\n"
     ]
    },
    {
     "name": "stderr",
     "output_type": "stream",
     "text": [
      "/lus/bnchlu1/shao/local/pyenv/versions/analysis/lib/python3.10/site-packages/autograd/tracer.py:48: RuntimeWarning: divide by zero encountered in log\n",
      "  return f_raw(*args, **kwargs)\n",
      "/lus/bnchlu1/shao/local/pyenv/versions/analysis/lib/python3.10/site-packages/autograd/numpy/numpy_vjps.py:78: RuntimeWarning: divide by zero encountered in divide\n",
      "  defvjp(anp.log,    lambda ans, x : lambda g: g / x)\n",
      "/lus/bnchlu1/shao/local/pyenv/versions/analysis/lib/python3.10/site-packages/autograd/tracer.py:48: RuntimeWarning: divide by zero encountered in log\n",
      "  return f_raw(*args, **kwargs)\n",
      "/lus/bnchlu1/shao/local/pyenv/versions/analysis/lib/python3.10/site-packages/autograd/numpy/numpy_vjps.py:78: RuntimeWarning: divide by zero encountered in divide\n",
      "  defvjp(anp.log,    lambda ans, x : lambda g: g / x)\n",
      "/lus/bnchlu1/shao/local/pyenv/versions/analysis/lib/python3.10/site-packages/autograd/tracer.py:48: RuntimeWarning: divide by zero encountered in log\n",
      "  return f_raw(*args, **kwargs)\n",
      "/lus/bnchlu1/shao/local/pyenv/versions/analysis/lib/python3.10/site-packages/autograd/numpy/numpy_vjps.py:78: RuntimeWarning: divide by zero encountered in divide\n",
      "  defvjp(anp.log,    lambda ans, x : lambda g: g / x)\n"
     ]
    },
    {
     "name": "stdout",
     "output_type": "stream",
     "text": [
      "Some input pH values are impossibly high given the input alkalinity;\n",
      "returning np.nan rather than negative DIC values.\n",
      "Some input pH values are impossibly high given the input alkalinity;\n",
      "returning np.nan rather than negative DIC values.\n",
      "Some input pH values are impossibly high given the input alkalinity;\n",
      "returning np.nan rather than negative DIC values.\n",
      "Some input pH values are impossibly high given the input alkalinity;\n",
      "returning np.nan rather than negative DIC values.\n",
      "Some input pH values are impossibly high given the input alkalinity;\n",
      "returning np.nan rather than negative DIC values.\n"
     ]
    },
    {
     "name": "stderr",
     "output_type": "stream",
     "text": [
      "/lus/bnchlu1/shao/local/pyenv/versions/analysis/lib/python3.10/site-packages/autograd/tracer.py:48: RuntimeWarning: divide by zero encountered in log\n",
      "  return f_raw(*args, **kwargs)\n",
      "/lus/bnchlu1/shao/local/pyenv/versions/analysis/lib/python3.10/site-packages/autograd/numpy/numpy_vjps.py:78: RuntimeWarning: divide by zero encountered in divide\n",
      "  defvjp(anp.log,    lambda ans, x : lambda g: g / x)\n"
     ]
    },
    {
     "name": "stdout",
     "output_type": "stream",
     "text": [
      "Some input pH values are impossibly high given the input alkalinity;\n",
      "returning np.nan rather than negative DIC values.\n",
      "Some input pH values are impossibly high given the input alkalinity;\n",
      "returning np.nan rather than negative DIC values.\n",
      "Some input pH values are impossibly high given the input alkalinity;\n",
      "\n",
      "returning np.nan rather than negative DIC values."
     ]
    },
    {
     "name": "stderr",
     "output_type": "stream",
     "text": [
      "/lus/bnchlu1/shao/local/pyenv/versions/analysis/lib/python3.10/site-packages/autograd/tracer.py:48: RuntimeWarning: divide by zero encountered in log\n",
      "  return f_raw(*args, **kwargs)\n",
      "/lus/bnchlu1/shao/local/pyenv/versions/analysis/lib/python3.10/site-packages/autograd/numpy/numpy_vjps.py:78: RuntimeWarning: divide by zero encountered in divide\n",
      "  defvjp(anp.log,    lambda ans, x : lambda g: g / x)\n"
     ]
    },
    {
     "name": "stdout",
     "output_type": "stream",
     "text": [
      "Some input pH values are impossibly high given the input alkalinity;\n",
      "returning np.nan rather than negative DIC values.\n",
      "Some input pH values are impossibly high given the input alkalinity;returning np.nan rather than negative DIC values.\n",
      "\n",
      "Some input pH values are impossibly high given the input alkalinity;\n",
      "returning np.nan rather than negative DIC values.\n"
     ]
    },
    {
     "name": "stderr",
     "output_type": "stream",
     "text": [
      "/lus/bnchlu1/shao/local/pyenv/versions/analysis/lib/python3.10/site-packages/autograd/tracer.py:48: RuntimeWarning: divide by zero encountered in log\n",
      "  return f_raw(*args, **kwargs)\n",
      "/lus/bnchlu1/shao/local/pyenv/versions/analysis/lib/python3.10/site-packages/autograd/numpy/numpy_vjps.py:78: RuntimeWarning: divide by zero encountered in divide\n",
      "  defvjp(anp.log,    lambda ans, x : lambda g: g / x)\n"
     ]
    },
    {
     "name": "stdout",
     "output_type": "stream",
     "text": [
      "Some input pH values are impossibly high given the input alkalinity;returning np.nan rather than negative DIC values.\n",
      "\n",
      "Some input pH values are impossibly high given the input alkalinity;\n",
      "returning np.nan rather than negative DIC values.\n"
     ]
    },
    {
     "name": "stderr",
     "output_type": "stream",
     "text": [
      "/lus/bnchlu1/shao/local/pyenv/versions/analysis/lib/python3.10/site-packages/autograd/tracer.py:48: RuntimeWarning: divide by zero encountered in log\n",
      "  return f_raw(*args, **kwargs)\n",
      "/lus/bnchlu1/shao/local/pyenv/versions/analysis/lib/python3.10/site-packages/autograd/numpy/numpy_vjps.py:78: RuntimeWarning: divide by zero encountered in divide\n",
      "  defvjp(anp.log,    lambda ans, x : lambda g: g / x)\n"
     ]
    },
    {
     "name": "stdout",
     "output_type": "stream",
     "text": [
      "Some input pH values are impossibly high given the input alkalinity;\n",
      "returning np.nan rather than negative DIC values.\n",
      "Some input pH values are impossibly high given the input alkalinity;\n",
      "returning np.nan rather than negative DIC values.\n",
      "Some input pH values are impossibly high given the input alkalinity;\n",
      "returning np.nan rather than negative DIC values.\n",
      "Some input pH values are impossibly high given the input alkalinity;\n",
      "returning np.nan rather than negative DIC values.\n",
      "Some input pH values are impossibly high given the input alkalinity;\n",
      "returning np.nan rather than negative DIC values.\n"
     ]
    },
    {
     "name": "stderr",
     "output_type": "stream",
     "text": [
      "/lus/bnchlu1/shao/local/pyenv/versions/analysis/lib/python3.10/site-packages/autograd/tracer.py:48: RuntimeWarning: divide by zero encountered in log\n",
      "  return f_raw(*args, **kwargs)\n",
      "/lus/bnchlu1/shao/local/pyenv/versions/analysis/lib/python3.10/site-packages/autograd/tracer.py:48: RuntimeWarning: divide by zero encountered in log\n",
      "  return f_raw(*args, **kwargs)\n",
      "/lus/bnchlu1/shao/local/pyenv/versions/analysis/lib/python3.10/site-packages/autograd/numpy/numpy_vjps.py:78: RuntimeWarning: divide by zero encountered in divide\n",
      "  defvjp(anp.log,    lambda ans, x : lambda g: g / x)\n",
      "/lus/bnchlu1/shao/local/pyenv/versions/analysis/lib/python3.10/site-packages/autograd/numpy/numpy_vjps.py:78: RuntimeWarning: divide by zero encountered in divide\n",
      "  defvjp(anp.log,    lambda ans, x : lambda g: g / x)\n"
     ]
    },
    {
     "name": "stdout",
     "output_type": "stream",
     "text": [
      "Some input pH values are impossibly high given the input alkalinity;\n",
      "returning np.nan rather than negative DIC values.\n",
      "Some input pH values are impossibly high given the input alkalinity;\n",
      "returning np.nan rather than negative DIC values.\n",
      "Some input pH values are impossibly high given the input alkalinity;\n",
      "returning np.nan rather than negative DIC values.\n",
      "Some input pH values are impossibly high given the input alkalinity;\n",
      "Some input pH values are impossibly high given the input alkalinity;\n",
      "returning np.nan rather than negative DIC values.returning np.nan rather than negative DIC values.\n",
      "\n",
      "Some input pH values are impossibly high given the input alkalinity;\n",
      "returning np.nan rather than negative DIC values.\n"
     ]
    },
    {
     "name": "stderr",
     "output_type": "stream",
     "text": [
      "/lus/bnchlu1/shao/local/pyenv/versions/analysis/lib/python3.10/site-packages/autograd/tracer.py:48: RuntimeWarning: divide by zero encountered in log\n",
      "  return f_raw(*args, **kwargs)\n",
      "/lus/bnchlu1/shao/local/pyenv/versions/analysis/lib/python3.10/site-packages/autograd/numpy/numpy_vjps.py:78: RuntimeWarning: divide by zero encountered in divide\n",
      "  defvjp(anp.log,    lambda ans, x : lambda g: g / x)\n"
     ]
    },
    {
     "name": "stdout",
     "output_type": "stream",
     "text": [
      "Some input pH values are impossibly high given the input alkalinity;\n",
      "returning np.nan rather than negative DIC values.\n",
      "Some input pH values are impossibly high given the input alkalinity;\n",
      "returning np.nan rather than negative DIC values.\n",
      "Some input pH values are impossibly high given the input alkalinity;\n",
      "returning np.nan rather than negative DIC values.\n",
      "Some input pH values are impossibly high given the input alkalinity;\n",
      "returning np.nan rather than negative DIC values.\n"
     ]
    },
    {
     "name": "stderr",
     "output_type": "stream",
     "text": [
      "/lus/bnchlu1/shao/local/pyenv/versions/analysis/lib/python3.10/site-packages/autograd/tracer.py:48: RuntimeWarning: divide by zero encountered in log\n",
      "  return f_raw(*args, **kwargs)\n",
      "/lus/bnchlu1/shao/local/pyenv/versions/analysis/lib/python3.10/site-packages/autograd/numpy/numpy_vjps.py:78: RuntimeWarning: divide by zero encountered in divide\n",
      "  defvjp(anp.log,    lambda ans, x : lambda g: g / x)\n"
     ]
    },
    {
     "name": "stdout",
     "output_type": "stream",
     "text": [
      "Some input pH values are impossibly high given the input alkalinity;returning np.nan rather than negative DIC values.\n",
      "\n",
      "Some input pH values are impossibly high given the input alkalinity;\n",
      "\n",
      "returning np.nan rather than negative DIC values."
     ]
    },
    {
     "name": "stderr",
     "output_type": "stream",
     "text": [
      "/lus/bnchlu1/shao/local/pyenv/versions/analysis/lib/python3.10/site-packages/autograd/tracer.py:48: RuntimeWarning: divide by zero encountered in log\n",
      "  return f_raw(*args, **kwargs)\n",
      "/lus/bnchlu1/shao/local/pyenv/versions/analysis/lib/python3.10/site-packages/autograd/numpy/numpy_vjps.py:78: RuntimeWarning: divide by zero encountered in divide\n",
      "  defvjp(anp.log,    lambda ans, x : lambda g: g / x)\n"
     ]
    },
    {
     "name": "stdout",
     "output_type": "stream",
     "text": [
      "Some input pH values are impossibly high given the input alkalinity;\n",
      "returning np.nan rather than negative DIC values.\n",
      "Some input pH values are impossibly high given the input alkalinity;\n",
      "returning np.nan rather than negative DIC values.\n",
      "Some input pH values are impossibly high given the input alkalinity;\n",
      "returning np.nan rather than negative DIC values.\n"
     ]
    },
    {
     "name": "stderr",
     "output_type": "stream",
     "text": [
      "/lus/bnchlu1/shao/local/pyenv/versions/analysis/lib/python3.10/site-packages/autograd/tracer.py:48: RuntimeWarning: divide by zero encountered in log\n",
      "  return f_raw(*args, **kwargs)\n",
      "/lus/bnchlu1/shao/local/pyenv/versions/analysis/lib/python3.10/site-packages/autograd/numpy/numpy_vjps.py:78: RuntimeWarning: divide by zero encountered in divide\n",
      "  defvjp(anp.log,    lambda ans, x : lambda g: g / x)\n"
     ]
    },
    {
     "name": "stdout",
     "output_type": "stream",
     "text": [
      "Some input pH values are impossibly high given the input alkalinity;\n",
      "returning np.nan rather than negative DIC values.\n",
      "Some input pH values are impossibly high given the input alkalinity;\n",
      "returning np.nan rather than negative DIC values.\n",
      "Some input pH values are impossibly high given the input alkalinity;\n",
      "returning np.nan rather than negative DIC values.\n"
     ]
    },
    {
     "name": "stderr",
     "output_type": "stream",
     "text": [
      "/lus/bnchlu1/shao/local/pyenv/versions/analysis/lib/python3.10/site-packages/autograd/tracer.py:48: RuntimeWarning: divide by zero encountered in log\n",
      "  return f_raw(*args, **kwargs)\n",
      "/lus/bnchlu1/shao/local/pyenv/versions/analysis/lib/python3.10/site-packages/autograd/numpy/numpy_vjps.py:78: RuntimeWarning: divide by zero encountered in divide\n",
      "  defvjp(anp.log,    lambda ans, x : lambda g: g / x)\n"
     ]
    },
    {
     "name": "stdout",
     "output_type": "stream",
     "text": [
      "Some input pH values are impossibly high given the input alkalinity;\n",
      "returning np.nan rather than negative DIC values.\n",
      "Some input pH values are impossibly high given the input alkalinity;\n",
      "returning np.nan rather than negative DIC values.\n",
      "Some input pH values are impossibly high given the input alkalinity;\n",
      "returning np.nan rather than negative DIC values.\n",
      "Some input pH values are impossibly high given the input alkalinity;\n",
      "returning np.nan rather than negative DIC values.\n",
      "Some input pH values are impossibly high given the input alkalinity;\n",
      "returning np.nan rather than negative DIC values.\n"
     ]
    },
    {
     "name": "stderr",
     "output_type": "stream",
     "text": [
      "/lus/bnchlu1/shao/local/pyenv/versions/analysis/lib/python3.10/site-packages/autograd/tracer.py:48: RuntimeWarning: divide by zero encountered in log\n",
      "  return f_raw(*args, **kwargs)\n",
      "/lus/bnchlu1/shao/local/pyenv/versions/analysis/lib/python3.10/site-packages/autograd/numpy/numpy_vjps.py:78: RuntimeWarning: divide by zero encountered in divide\n",
      "  defvjp(anp.log,    lambda ans, x : lambda g: g / x)\n"
     ]
    },
    {
     "name": "stdout",
     "output_type": "stream",
     "text": [
      "Some input pH values are impossibly high given the input alkalinity;\n",
      "returning np.nan rather than negative DIC values.\n",
      "Some input pH values are impossibly high given the input alkalinity;\n",
      "returning np.nan rather than negative DIC values.\n",
      "Some input pH values are impossibly high given the input alkalinity;\n",
      "returning np.nan rather than negative DIC values.\n",
      "Some input pH values are impossibly high given the input alkalinity;\n",
      "returning np.nan rather than negative DIC values.\n"
     ]
    },
    {
     "name": "stderr",
     "output_type": "stream",
     "text": [
      "/lus/bnchlu1/shao/local/pyenv/versions/analysis/lib/python3.10/site-packages/autograd/tracer.py:48: RuntimeWarning: divide by zero encountered in log\n",
      "  return f_raw(*args, **kwargs)\n"
     ]
    },
    {
     "name": "stdout",
     "output_type": "stream",
     "text": [
      "Some input pH values are impossibly high given the input alkalinity;"
     ]
    },
    {
     "name": "stderr",
     "output_type": "stream",
     "text": [
      "/lus/bnchlu1/shao/local/pyenv/versions/analysis/lib/python3.10/site-packages/autograd/numpy/numpy_vjps.py:78: RuntimeWarning: divide by zero encountered in divide\n",
      "  defvjp(anp.log,    lambda ans, x : lambda g: g / x)\n"
     ]
    },
    {
     "name": "stdout",
     "output_type": "stream",
     "text": [
      "\n",
      "returning np.nan rather than negative DIC values.\n",
      "Some input pH values are impossibly high given the input alkalinity;\n",
      "returning np.nan rather than negative DIC values.\n",
      "Some input pH values are impossibly high given the input alkalinity;\n",
      "\n",
      "returning np.nan rather than negative DIC values."
     ]
    },
    {
     "name": "stderr",
     "output_type": "stream",
     "text": [
      "/lus/bnchlu1/shao/local/pyenv/versions/analysis/lib/python3.10/site-packages/autograd/tracer.py:48: RuntimeWarning: divide by zero encountered in log\n",
      "  return f_raw(*args, **kwargs)\n",
      "/lus/bnchlu1/shao/local/pyenv/versions/analysis/lib/python3.10/site-packages/autograd/numpy/numpy_vjps.py:78: RuntimeWarning: divide by zero encountered in divide\n",
      "  defvjp(anp.log,    lambda ans, x : lambda g: g / x)\n"
     ]
    },
    {
     "name": "stdout",
     "output_type": "stream",
     "text": [
      "Some input pH values are impossibly high given the input alkalinity;\n",
      "returning np.nan rather than negative DIC values.\n",
      "Some input pH values are impossibly high given the input alkalinity;\n",
      "returning np.nan rather than negative DIC values.\n",
      "Some input pH values are impossibly high given the input alkalinity;\n",
      "returning np.nan rather than negative DIC values.\n",
      "Some input pH values are impossibly high given the input alkalinity;\n",
      "returning np.nan rather than negative DIC values.\n"
     ]
    },
    {
     "name": "stderr",
     "output_type": "stream",
     "text": [
      "/lus/bnchlu1/shao/local/pyenv/versions/analysis/lib/python3.10/site-packages/autograd/tracer.py:48: RuntimeWarning: divide by zero encountered in log\n",
      "  return f_raw(*args, **kwargs)\n",
      "/lus/bnchlu1/shao/local/pyenv/versions/analysis/lib/python3.10/site-packages/autograd/tracer.py:48: RuntimeWarning: divide by zero encountered in log\n",
      "  return f_raw(*args, **kwargs)\n",
      "/lus/bnchlu1/shao/local/pyenv/versions/analysis/lib/python3.10/site-packages/autograd/numpy/numpy_vjps.py:78: RuntimeWarning: divide by zero encountered in divide\n",
      "  defvjp(anp.log,    lambda ans, x : lambda g: g / x)\n",
      "/lus/bnchlu1/shao/local/pyenv/versions/analysis/lib/python3.10/site-packages/autograd/numpy/numpy_vjps.py:78: RuntimeWarning: divide by zero encountered in divide\n",
      "  defvjp(anp.log,    lambda ans, x : lambda g: g / x)\n"
     ]
    },
    {
     "name": "stdout",
     "output_type": "stream",
     "text": [
      "Some input pH values are impossibly high given the input alkalinity;\n",
      "returning np.nan rather than negative DIC values.\n"
     ]
    },
    {
     "name": "stderr",
     "output_type": "stream",
     "text": [
      "/lus/bnchlu1/shao/local/pyenv/versions/analysis/lib/python3.10/site-packages/autograd/tracer.py:48: RuntimeWarning: divide by zero encountered in log\n",
      "  return f_raw(*args, **kwargs)\n",
      "/lus/bnchlu1/shao/local/pyenv/versions/analysis/lib/python3.10/site-packages/autograd/numpy/numpy_vjps.py:78: RuntimeWarning: divide by zero encountered in divide\n",
      "  defvjp(anp.log,    lambda ans, x : lambda g: g / x)\n"
     ]
    },
    {
     "name": "stdout",
     "output_type": "stream",
     "text": [
      "Some input pH values are impossibly high given the input alkalinity;\n",
      "returning np.nan rather than negative DIC values.\n",
      "Some input pH values are impossibly high given the input alkalinity;\n",
      "returning np.nan rather than negative DIC values.\n",
      "Some input pH values are impossibly high given the input alkalinity;\n",
      "returning np.nan rather than negative DIC values.\n",
      "Some input pH values are impossibly high given the input alkalinity;\n",
      "returning np.nan rather than negative DIC values.\n",
      "Some input pH values are impossibly high given the input alkalinity;\n",
      "Some input pH values are impossibly high given the input alkalinity;returning np.nan rather than negative DIC values.\n",
      "\n",
      "returning np.nan rather than negative DIC values.\n",
      "Some input pH values are impossibly high given the input alkalinity;\n",
      "returning np.nan rather than negative DIC values.\n",
      "Some input pH values are impossibly high given the input alkalinity;\n",
      "returning np.nan rather than negative DIC values.\n",
      "Some input pH values are impossibly high given the input alkalinity;\n",
      "returning np.nan rather than negative DIC values.\n"
     ]
    },
    {
     "name": "stderr",
     "output_type": "stream",
     "text": [
      "/lus/bnchlu1/shao/local/pyenv/versions/analysis/lib/python3.10/site-packages/autograd/tracer.py:48: RuntimeWarning: divide by zero encountered in log\n",
      "  return f_raw(*args, **kwargs)\n",
      "/lus/bnchlu1/shao/local/pyenv/versions/analysis/lib/python3.10/site-packages/autograd/numpy/numpy_vjps.py:78: RuntimeWarning: divide by zero encountered in divide\n",
      "  defvjp(anp.log,    lambda ans, x : lambda g: g / x)\n"
     ]
    },
    {
     "name": "stdout",
     "output_type": "stream",
     "text": [
      "Some input pH values are impossibly high given the input alkalinity;\n",
      "returning np.nan rather than negative DIC values.\n",
      "Some input pH values are impossibly high given the input alkalinity;\n",
      "returning np.nan rather than negative DIC values.\n",
      "Some input pH values are impossibly high given the input alkalinity;\n",
      "returning np.nan rather than negative DIC values.\n",
      "Some input pH values are impossibly high given the input alkalinity;\n",
      "returning np.nan rather than negative DIC values.\n"
     ]
    },
    {
     "name": "stderr",
     "output_type": "stream",
     "text": [
      "/lus/bnchlu1/shao/local/pyenv/versions/analysis/lib/python3.10/site-packages/autograd/tracer.py:48: RuntimeWarning: divide by zero encountered in log\n",
      "  return f_raw(*args, **kwargs)\n",
      "/lus/bnchlu1/shao/local/pyenv/versions/analysis/lib/python3.10/site-packages/autograd/numpy/numpy_vjps.py:78: RuntimeWarning: divide by zero encountered in divide\n",
      "  defvjp(anp.log,    lambda ans, x : lambda g: g / x)\n",
      "/lus/bnchlu1/shao/local/pyenv/versions/analysis/lib/python3.10/site-packages/autograd/tracer.py:48: RuntimeWarning: divide by zero encountered in log\n",
      "  return f_raw(*args, **kwargs)\n"
     ]
    },
    {
     "name": "stdout",
     "output_type": "stream",
     "text": [
      "Some input pH values are impossibly high given the input alkalinity;"
     ]
    },
    {
     "name": "stderr",
     "output_type": "stream",
     "text": [
      "/lus/bnchlu1/shao/local/pyenv/versions/analysis/lib/python3.10/site-packages/autograd/numpy/numpy_vjps.py:78: RuntimeWarning: divide by zero encountered in divide\n",
      "  defvjp(anp.log,    lambda ans, x : lambda g: g / x)\n"
     ]
    },
    {
     "name": "stdout",
     "output_type": "stream",
     "text": [
      "\n",
      "returning np.nan rather than negative DIC values.\n",
      "Some input pH values are impossibly high given the input alkalinity;Some input pH values are impossibly high given the input alkalinity;\n",
      "\n",
      "returning np.nan rather than negative DIC values.\n",
      "returning np.nan rather than negative DIC values.\n",
      "Some input pH values are impossibly high given the input alkalinity;\n",
      "returning np.nan rather than negative DIC values.\n",
      "Some input pH values are impossibly high given the input alkalinity;\n",
      "returning np.nan rather than negative DIC values.\n",
      "Some input pH values are impossibly high given the input alkalinity;\n",
      "returning np.nan rather than negative DIC values.\n",
      "Some input pH values are impossibly high given the input alkalinity;\n",
      "returning np.nan rather than negative DIC values.\n"
     ]
    },
    {
     "name": "stderr",
     "output_type": "stream",
     "text": [
      "/lus/bnchlu1/shao/local/pyenv/versions/analysis/lib/python3.10/site-packages/autograd/tracer.py:48: RuntimeWarning: divide by zero encountered in log\n",
      "  return f_raw(*args, **kwargs)\n",
      "/lus/bnchlu1/shao/local/pyenv/versions/analysis/lib/python3.10/site-packages/autograd/numpy/numpy_vjps.py:78: RuntimeWarning: divide by zero encountered in divide\n",
      "  defvjp(anp.log,    lambda ans, x : lambda g: g / x)\n"
     ]
    },
    {
     "name": "stdout",
     "output_type": "stream",
     "text": [
      "Some input pH values are impossibly high given the input alkalinity;\n",
      "returning np.nan rather than negative DIC values.\n",
      "Some input pH values are impossibly high given the input alkalinity;\n",
      "returning np.nan rather than negative DIC values.\n"
     ]
    },
    {
     "name": "stderr",
     "output_type": "stream",
     "text": [
      "/lus/bnchlu1/shao/local/pyenv/versions/analysis/lib/python3.10/site-packages/autograd/tracer.py:48: RuntimeWarning: divide by zero encountered in log\n",
      "  return f_raw(*args, **kwargs)\n",
      "/lus/bnchlu1/shao/local/pyenv/versions/analysis/lib/python3.10/site-packages/autograd/numpy/numpy_vjps.py:78: RuntimeWarning: divide by zero encountered in divide\n",
      "  defvjp(anp.log,    lambda ans, x : lambda g: g / x)\n"
     ]
    },
    {
     "name": "stdout",
     "output_type": "stream",
     "text": [
      "Some input pH values are impossibly high given the input alkalinity;\n",
      "returning np.nan rather than negative DIC values.\n",
      "Some input pH values are impossibly high given the input alkalinity;\n",
      "returning np.nan rather than negative DIC values.\n",
      "Some input pH values are impossibly high given the input alkalinity;\n",
      "returning np.nan rather than negative DIC values.\n"
     ]
    },
    {
     "name": "stderr",
     "output_type": "stream",
     "text": [
      "/lus/bnchlu1/shao/local/pyenv/versions/analysis/lib/python3.10/site-packages/autograd/tracer.py:48: RuntimeWarning: divide by zero encountered in log\n",
      "  return f_raw(*args, **kwargs)\n",
      "/lus/bnchlu1/shao/local/pyenv/versions/analysis/lib/python3.10/site-packages/autograd/numpy/numpy_vjps.py:78: RuntimeWarning: divide by zero encountered in divide\n",
      "  defvjp(anp.log,    lambda ans, x : lambda g: g / x)\n"
     ]
    },
    {
     "name": "stdout",
     "output_type": "stream",
     "text": [
      "Some input pH values are impossibly high given the input alkalinity;\n",
      "returning np.nan rather than negative DIC values.\n"
     ]
    },
    {
     "name": "stderr",
     "output_type": "stream",
     "text": [
      "/lus/bnchlu1/shao/local/pyenv/versions/analysis/lib/python3.10/site-packages/autograd/tracer.py:48: RuntimeWarning: divide by zero encountered in log\n",
      "  return f_raw(*args, **kwargs)\n",
      "/lus/bnchlu1/shao/local/pyenv/versions/analysis/lib/python3.10/site-packages/autograd/numpy/numpy_vjps.py:78: RuntimeWarning: divide by zero encountered in divide\n",
      "  defvjp(anp.log,    lambda ans, x : lambda g: g / x)\n"
     ]
    },
    {
     "name": "stdout",
     "output_type": "stream",
     "text": [
      "Some input pH values are impossibly high given the input alkalinity;\n",
      "returning np.nan rather than negative DIC values.\n",
      "Some input pH values are impossibly high given the input alkalinity;\n",
      "returning np.nan rather than negative DIC values.\n",
      "Some input pH values are impossibly high given the input alkalinity;\n",
      "returning np.nan rather than negative DIC values.\n",
      "Some input pH values are impossibly high given the input alkalinity;\n",
      "returning np.nan rather than negative DIC values.Some input pH values are impossibly high given the input alkalinity;\n",
      "\n",
      "returning np.nan rather than negative DIC values.\n"
     ]
    },
    {
     "name": "stderr",
     "output_type": "stream",
     "text": [
      "/lus/bnchlu1/shao/local/pyenv/versions/analysis/lib/python3.10/site-packages/autograd/tracer.py:48: RuntimeWarning: divide by zero encountered in log\n",
      "  return f_raw(*args, **kwargs)\n",
      "/lus/bnchlu1/shao/local/pyenv/versions/analysis/lib/python3.10/site-packages/autograd/numpy/numpy_vjps.py:78: RuntimeWarning: divide by zero encountered in divide\n",
      "  defvjp(anp.log,    lambda ans, x : lambda g: g / x)\n"
     ]
    },
    {
     "name": "stdout",
     "output_type": "stream",
     "text": [
      "Some input pH values are impossibly high given the input alkalinity;\n",
      "Some input pH values are impossibly high given the input alkalinity;returning np.nan rather than negative DIC values.\n",
      "\n",
      "returning np.nan rather than negative DIC values.\n",
      "Some input pH values are impossibly high given the input alkalinity;\n",
      "returning np.nan rather than negative DIC values.\n"
     ]
    },
    {
     "name": "stderr",
     "output_type": "stream",
     "text": [
      "/lus/bnchlu1/shao/local/pyenv/versions/analysis/lib/python3.10/site-packages/autograd/tracer.py:48: RuntimeWarning: divide by zero encountered in log\n",
      "  return f_raw(*args, **kwargs)\n",
      "/lus/bnchlu1/shao/local/pyenv/versions/analysis/lib/python3.10/site-packages/autograd/numpy/numpy_vjps.py:78: RuntimeWarning: divide by zero encountered in divide\n",
      "  defvjp(anp.log,    lambda ans, x : lambda g: g / x)\n"
     ]
    },
    {
     "name": "stdout",
     "output_type": "stream",
     "text": [
      "Some input pH values are impossibly high given the input alkalinity;\n",
      "returning np.nan rather than negative DIC values.\n"
     ]
    },
    {
     "name": "stderr",
     "output_type": "stream",
     "text": [
      "/lus/bnchlu1/shao/local/pyenv/versions/analysis/lib/python3.10/site-packages/autograd/tracer.py:48: RuntimeWarning: divide by zero encountered in log\n",
      "  return f_raw(*args, **kwargs)\n",
      "/lus/bnchlu1/shao/local/pyenv/versions/analysis/lib/python3.10/site-packages/autograd/numpy/numpy_vjps.py:78: RuntimeWarning: divide by zero encountered in divide\n",
      "  defvjp(anp.log,    lambda ans, x : lambda g: g / x)\n"
     ]
    },
    {
     "name": "stdout",
     "output_type": "stream",
     "text": [
      "Some input pH values are impossibly high given the input alkalinity;\n",
      "returning np.nan rather than negative DIC values.\n",
      "Some input pH values are impossibly high given the input alkalinity;\n",
      "returning np.nan rather than negative DIC values."
     ]
    },
    {
     "name": "stderr",
     "output_type": "stream",
     "text": [
      "/lus/bnchlu1/shao/local/pyenv/versions/analysis/lib/python3.10/site-packages/autograd/tracer.py:48: RuntimeWarning: divide by zero encountered in log\n",
      "  return f_raw(*args, **kwargs)\n"
     ]
    },
    {
     "name": "stdout",
     "output_type": "stream",
     "text": [
      "\n"
     ]
    },
    {
     "name": "stderr",
     "output_type": "stream",
     "text": [
      "/lus/bnchlu1/shao/local/pyenv/versions/analysis/lib/python3.10/site-packages/autograd/numpy/numpy_vjps.py:78: RuntimeWarning: divide by zero encountered in divide\n",
      "  defvjp(anp.log,    lambda ans, x : lambda g: g / x)\n",
      "/lus/bnchlu1/shao/local/pyenv/versions/analysis/lib/python3.10/site-packages/autograd/tracer.py:48: RuntimeWarning: divide by zero encountered in log\n",
      "  return f_raw(*args, **kwargs)\n",
      "/lus/bnchlu1/shao/local/pyenv/versions/analysis/lib/python3.10/site-packages/autograd/numpy/numpy_vjps.py:78: RuntimeWarning: divide by zero encountered in divide\n",
      "  defvjp(anp.log,    lambda ans, x : lambda g: g / x)\n",
      "/lus/bnchlu1/shao/local/pyenv/versions/analysis/lib/python3.10/site-packages/autograd/tracer.py:48: RuntimeWarning: divide by zero encountered in log\n",
      "  return f_raw(*args, **kwargs)\n",
      "/lus/bnchlu1/shao/local/pyenv/versions/analysis/lib/python3.10/site-packages/autograd/numpy/numpy_vjps.py:78: RuntimeWarning: divide by zero encountered in divide\n",
      "  defvjp(anp.log,    lambda ans, x : lambda g: g / x)\n"
     ]
    },
    {
     "name": "stdout",
     "output_type": "stream",
     "text": [
      "Some input pH values are impossibly high given the input alkalinity;\n",
      "returning np.nan rather than negative DIC values.\n",
      "Some input pH values are impossibly high given the input alkalinity;\n",
      "returning np.nan rather than negative DIC values.\n",
      "Some input pH values are impossibly high given the input alkalinity;\n",
      "returning np.nan rather than negative DIC values.\n",
      "Some input pH values are impossibly high given the input alkalinity;\n",
      "returning np.nan rather than negative DIC values.\n"
     ]
    },
    {
     "name": "stderr",
     "output_type": "stream",
     "text": [
      "/lus/bnchlu1/shao/local/pyenv/versions/analysis/lib/python3.10/site-packages/autograd/tracer.py:48: RuntimeWarning: divide by zero encountered in log\n",
      "  return f_raw(*args, **kwargs)\n",
      "/lus/bnchlu1/shao/local/pyenv/versions/analysis/lib/python3.10/site-packages/autograd/numpy/numpy_vjps.py:78: RuntimeWarning: divide by zero encountered in divide\n",
      "  defvjp(anp.log,    lambda ans, x : lambda g: g / x)\n"
     ]
    },
    {
     "name": "stdout",
     "output_type": "stream",
     "text": [
      "Some input pH values are impossibly high given the input alkalinity;\n",
      "returning np.nan rather than negative DIC values.\n"
     ]
    }
   ],
   "source": [
    "if __name__ == '__main__':\n",
    "   r = process_map(process_ds, files, max_workers=128)"
   ]
  },
  {
   "cell_type": "code",
   "execution_count": 18,
   "id": "b403b158-4b96-4b08-b89c-f8fbc4ef4283",
   "metadata": {},
   "outputs": [],
   "source": [
    "# Subset the mask file\n",
    "mask = xr.open_dataset(f'{datapath}/NEP36-mask_channel.nc')\n",
    "mask_sub = mask.isel(\n",
    "    x = x_slice,\n",
    "    y = y_slice\n",
    ")\n",
    "\n",
    "mask_sub.to_netcdf(f'{processed_datapath}/static/mask.nc')"
   ]
  },
  {
   "cell_type": "code",
   "execution_count": null,
   "id": "f989e4f5-983e-43c7-8528-b9e3860ee3b3",
   "metadata": {},
   "outputs": [],
   "source": [
    "files = glob.glob(f'{processed_datapath}/daily/{prefix}*.nc')"
   ]
  },
  {
   "cell_type": "code",
   "execution_count": null,
   "id": "9087453c-d1c1-4a08-b228-6ba711d9bb1d",
   "metadata": {},
   "outputs": [],
   "source": [
    "# Note this is faster to do with cdo mergetime\n",
    "\n",
    "def concatenate_by_year(year):\n",
    "    year_files = [file for file in files if str(year) in file]\n",
    "    ds = xr.open_mfdataset(year_files, parallel=True, engine='h5netcdf')\n",
    "    ds.to_netcdf(f'{processed_datapath}/daily/by_year/{year}.nc')\n",
    "\n",
    "\n",
    "# Group daily into annual files\n",
    "years = range(1996,2004)\n",
    "if __name__ == '__main__':\n",
    "   r = process_map(concatenate_by_year, years, max_workers=128)\n",
    "\n"
   ]
  },
  {
   "cell_type": "code",
   "execution_count": null,
   "id": "60c9d082-67db-4e35-bf44-ea7d2751854b",
   "metadata": {},
   "outputs": [],
   "source": []
  }
 ],
 "metadata": {
  "kernelspec": {
   "display_name": "Python 3 (ipykernel)",
   "language": "python",
   "name": "python3"
  },
  "language_info": {
   "codemirror_mode": {
    "name": "ipython",
    "version": 3
   },
   "file_extension": ".py",
   "mimetype": "text/x-python",
   "name": "python",
   "nbconvert_exporter": "python",
   "pygments_lexer": "ipython3",
   "version": "3.10.5"
  }
 },
 "nbformat": 4,
 "nbformat_minor": 5
}
