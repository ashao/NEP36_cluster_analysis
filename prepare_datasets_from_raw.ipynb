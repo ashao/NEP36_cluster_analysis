{
 "cells": [
  {
   "cell_type": "code",
   "execution_count": 1,
   "id": "76071812-ef93-4c4a-b640-767434cfe158",
   "metadata": {},
   "outputs": [
    {
     "name": "stderr",
     "output_type": "stream",
     "text": [
      "/lus/scratch/shao/miniconda3/envs/analysis/lib/python3.9/site-packages/dask_jobqueue/core.py:20: FutureWarning: tmpfile is deprecated and will be removed in a future release. Please use dask.utils.tmpfile instead.\n",
      "  from distributed.utils import tmpfile\n"
     ]
    }
   ],
   "source": [
    "import xarray as xr\n",
    "import PyCO2SYS as pyco2\n",
    "import numpy as np\n",
    "from dask_jobqueue import SLURMCluster\n",
    "from dask.distributed import Client, progress\n",
    "from dask.diagnostics import ProgressBar\n",
    "from time import time"
   ]
  },
  {
   "cell_type": "code",
   "execution_count": 2,
   "id": "6ef144ee-c0f3-4e97-846b-9ab10fb8e3ef",
   "metadata": {},
   "outputs": [],
   "source": [
    "cluster = SLURMCluster(\n",
    "    cores = 48,\n",
    "    memory = '192GB',\n",
    "    processes=1,\n",
    "    walltime='12:00:00'\n",
    ")\n",
    "cluster.scale(jobs=12)\n",
    "client = Client(cluster)"
   ]
  },
  {
   "cell_type": "code",
   "execution_count": 3,
   "id": "e7c09482-da4e-446f-9056-18ecef51cd3e",
   "metadata": {},
   "outputs": [],
   "source": [
    "datapath = '/lus/scratch/shao/data/NEP36_extremes/'\n",
    "processed_datapath = f'{datapath}/processed'\n",
    "prefix = 'NEP36-CanOE_3h_benthic_shelf_'\n",
    "x_slice = slice(215,713)\n",
    "y_slice = slice(180,750)"
   ]
  },
  {
   "cell_type": "code",
   "execution_count": 5,
   "id": "5c9b02ff-42a7-4431-ba61-8f5cbe989274",
   "metadata": {},
   "outputs": [
    {
     "name": "stdout",
     "output_type": "stream",
     "text": [
      "<xarray.Dataset>\n",
      "Dimensions:  (time: 40, y: 1020, x: 714)\n",
      "Coordinates:\n",
      "    nav_lon  (y, x) float32 ...\n",
      "  * time     (time) datetime64[ns] 2020-02-19T01:30:00 ... 2020-02-23T22:30:00\n",
      "    nav_lat  (y, x) float32 ...\n",
      "Dimensions without coordinates: y, x\n",
      "Data variables:\n",
      "    S        (time, y, x) float32 ...\n",
      "    depths   (y, x) float64 ...\n",
      "    T        (time, y, x) float32 ...\n",
      "    DIC      (time, y, x) float32 ...\n",
      "    ALK      (time, y, x) float32 ...\n",
      "    NO3      (time, y, x) float32 ...\n",
      "    O2       (time, y, x) float32 ...\n",
      "Attributes:\n",
      "    description:  benthic data for the shelf\n"
     ]
    }
   ],
   "source": [
    "def calc_omega_a( alkalinity, dic ):\n",
    "    results = pyco2.sys(\n",
    "        par1 = alkalinity,\n",
    "        par1_type = 1,\n",
    "        par2 = dic,\n",
    "        par2_type =2\n",
    "    )\n",
    "    return results['saturation_aragonite']\n",
    "\n",
    "with xr.open_dataset(f'{datapath}/NEP36-CanOE_3h_benthic_shelf_20200219-20200223.nc') as ds:\n",
    "    print(ds)"
   ]
  },
  {
   "cell_type": "code",
   "execution_count": null,
   "id": "2810a535-fa26-487f-a25e-7251fd2322b8",
   "metadata": {},
   "outputs": [],
   "source": [
    "# Subset and resample all fields to daily averages\n",
    "for year in range(1996,2021):\n",
    "    start_time = time()\n",
    "    with xr.open_mfdataset(f'{datapath}/{prefix}*{year}*',parallel=True) as ds:\n",
    "        # Groupby year and subset in space\n",
    "        ds_year = ds.groupby('time.year')[year]\n",
    "        ds_year = ds_year.isel(\n",
    "            x = x_slice,\n",
    "            y = y_slice\n",
    "        )\n",
    "        # Perform other calculations\n",
    "        ds_year['OmegaA'] = xr.apply_ufunc(\n",
    "            calc_omega_a,\n",
    "            ds_year.ALK,\n",
    "            ds_year.DIC,\n",
    "            dask='parallelized'\n",
    "        )\n",
    "        ds_year = ds_year.resample(time='1D').mean(dim='time')\n",
    "        ds_year.to_netcdf(f'{processed_datapath}/daily/{year}.nc',engine='h5netcdf')\n",
    "    print(f'Year {year}: {time() - start_time}s')"
   ]
  },
  {
   "cell_type": "code",
   "execution_count": 8,
   "id": "17026c89-cd98-4d3a-8aaf-a516f39284d7",
   "metadata": {},
   "outputs": [],
   "source": [
    "# Subset all fields at highest resolution for 1 year\n",
    "start_time = time()\n",
    "with xr.open_mfdataset(f'{datapath}/{prefix}*{year}*',parallel=True,engine='h5netcdf') as ds:\n",
    "    # Groupby year and subset in space\n",
    "    ds_year = ds.groupby('time.year')[year]\n",
    "    ds_year = ds_year.isel(\n",
    "        x=slice(215,713),\n",
    "        y=slice(180,750)\n",
    "    )\n",
    "    # Perform other calculations\n",
    "    ds_year['OmegaA'] = xr.apply_ufunc(\n",
    "        calc_omega_a,\n",
    "        ds_year.ALK,\n",
    "        ds_year.DIC,\n",
    "        dask='parallelized'\n",
    "    )\n",
    "    ds_year.to_netcdf(f'{processed_datapath}/3hr/{year}.nc',engine='h5netcdf')"
   ]
  },
  {
   "cell_type": "code",
   "execution_count": 4,
   "id": "b403b158-4b96-4b08-b89c-f8fbc4ef4283",
   "metadata": {},
   "outputs": [],
   "source": [
    "# Subset the mask file\n",
    "mask = xr.open_dataset(f'{datapath}/NEP36-mask_channel.nc')\n",
    "mask_sub = mask.isel(\n",
    "    x = x_slice,\n",
    "    y = y_slice\n",
    ")\n",
    "\n",
    "mask_sub.to_netcdf(f'{processed_datapath}/static/mask.nc')"
   ]
  },
  {
   "cell_type": "code",
   "execution_count": null,
   "id": "9087453c-d1c1-4a08-b228-6ba711d9bb1d",
   "metadata": {},
   "outputs": [],
   "source": []
  }
 ],
 "metadata": {
  "kernelspec": {
   "display_name": "Python 3 (ipykernel)",
   "language": "python",
   "name": "python3"
  },
  "language_info": {
   "codemirror_mode": {
    "name": "ipython",
    "version": 3
   },
   "file_extension": ".py",
   "mimetype": "text/x-python",
   "name": "python",
   "nbconvert_exporter": "python",
   "pygments_lexer": "ipython3",
   "version": "3.9.12"
  }
 },
 "nbformat": 4,
 "nbformat_minor": 5
}
